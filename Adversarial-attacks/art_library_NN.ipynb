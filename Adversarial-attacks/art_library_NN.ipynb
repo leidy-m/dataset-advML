{
  "cells": [
    {
      "cell_type": "markdown",
      "metadata": {
        "id": "8fSODuL4lm4U"
      },
      "source": [
        "# Librerías"
      ]
    },
    {
      "cell_type": "code",
      "execution_count": null,
      "metadata": {
        "colab": {
          "base_uri": "https://localhost:8080/"
        },
        "id": "cFXR4FGtYAS0",
        "outputId": "0150c022-2f71-4d86-8909-e71c28ae6c89"
      },
      "outputs": [
        {
          "output_type": "stream",
          "name": "stdout",
          "text": [
            "Requirement already satisfied: adversarial-robustness-toolbox in /usr/local/lib/python3.10/dist-packages (1.18.2)\n",
            "Requirement already satisfied: numpy>=1.18.0 in /usr/local/lib/python3.10/dist-packages (from adversarial-robustness-toolbox) (1.26.4)\n",
            "Requirement already satisfied: scipy>=1.4.1 in /usr/local/lib/python3.10/dist-packages (from adversarial-robustness-toolbox) (1.13.1)\n",
            "Requirement already satisfied: scikit-learn>=0.22.2 in /usr/local/lib/python3.10/dist-packages (from adversarial-robustness-toolbox) (1.5.2)\n",
            "Requirement already satisfied: six in /usr/local/lib/python3.10/dist-packages (from adversarial-robustness-toolbox) (1.16.0)\n",
            "Requirement already satisfied: setuptools in /usr/local/lib/python3.10/dist-packages (from adversarial-robustness-toolbox) (75.1.0)\n",
            "Requirement already satisfied: tqdm in /usr/local/lib/python3.10/dist-packages (from adversarial-robustness-toolbox) (4.66.6)\n",
            "Requirement already satisfied: joblib>=1.2.0 in /usr/local/lib/python3.10/dist-packages (from scikit-learn>=0.22.2->adversarial-robustness-toolbox) (1.4.2)\n",
            "Requirement already satisfied: threadpoolctl>=3.1.0 in /usr/local/lib/python3.10/dist-packages (from scikit-learn>=0.22.2->adversarial-robustness-toolbox) (3.5.0)\n"
          ]
        }
      ],
      "source": [
        "!pip install adversarial-robustness-toolbox"
      ]
    },
    {
      "cell_type": "code",
      "execution_count": null,
      "metadata": {
        "id": "iCuM1eD_aH9M"
      },
      "outputs": [],
      "source": [
        "\n",
        "import tensorflow as tf\n",
        "import numpy as np\n",
        "from art.attacks.evasion import FastGradientMethod\n",
        "from art.estimators.classification import TensorFlowV2Classifier\n",
        "from tensorflow.keras.datasets import mnist\n",
        "from tensorflow.keras.models import Sequential\n",
        "from tensorflow.keras.layers import Dense, Flatten\n",
        "from tensorflow.keras.utils import to_categorical\n"
      ]
    },
    {
      "cell_type": "code",
      "source": [
        "import matplotlib.pyplot as plt"
      ],
      "metadata": {
        "id": "10xoi1y5TZn8"
      },
      "execution_count": null,
      "outputs": []
    },
    {
      "cell_type": "markdown",
      "metadata": {
        "id": "WV4xeAqqlrQj"
      },
      "source": [
        "# Cargar datos"
      ]
    },
    {
      "cell_type": "code",
      "execution_count": null,
      "metadata": {
        "colab": {
          "base_uri": "https://localhost:8080/"
        },
        "id": "m3NvzoLBalSr",
        "outputId": "5b6115ce-1765-4ae5-cd9b-221c76a42cdf"
      },
      "outputs": [
        {
          "output_type": "stream",
          "name": "stdout",
          "text": [
            "Drive already mounted at /content/drive; to attempt to forcibly remount, call drive.mount(\"/content/drive\", force_remount=True).\n"
          ]
        }
      ],
      "source": [
        "import pandas as pd\n",
        "from google.colab import drive\n",
        "drive.mount('/content/drive')"
      ]
    },
    {
      "cell_type": "code",
      "execution_count": null,
      "metadata": {
        "id": "4gBxISF1XZ7a"
      },
      "outputs": [],
      "source": [
        "dataset = pd.read_csv('/content/drive/MyDrive/tmp/out-231024.csv')\n",
        "# print(dataset)"
      ]
    },
    {
      "cell_type": "code",
      "execution_count": null,
      "metadata": {
        "id": "kC62pkv9YQYL"
      },
      "outputs": [],
      "source": [
        "from sklearn.model_selection import train_test_split\n",
        "def CargarYprepararDatos(data):\n",
        "    #data['Pre_static_analysis.Filename'] = data['Pre_static_analysis.Filename'].str.split('.').str[0]\n",
        "    test = data.apply(pd.to_numeric, errors='coerce')\n",
        "    data = test\n",
        "    X = data.drop(\"malware\", axis=1)\n",
        "    y = data[\"malware\"]\n",
        "    X_train, X_test, y_train, y_test = train_test_split(X, y, test_size=0.2, random_state=42)\n",
        "    return X_train, X_test, y_train, y_test\n"
      ]
    },
    {
      "cell_type": "code",
      "execution_count": null,
      "metadata": {
        "id": "ITJnY3nNYTSx"
      },
      "outputs": [],
      "source": [
        "X_train, X_test, y_train, y_test = CargarYprepararDatos(dataset)"
      ]
    },
    {
      "cell_type": "markdown",
      "metadata": {
        "id": "FGwvQyiiwmmE"
      },
      "source": [
        "# Convertir a numpy"
      ]
    },
    {
      "cell_type": "code",
      "execution_count": null,
      "metadata": {
        "id": "ce6E3eAOinrf"
      },
      "outputs": [],
      "source": [
        "#X_train\n",
        "import pandas as pd\n",
        "import numpy as np\n",
        "np_X_train = X_train.to_numpy()\n",
        "np_X_test = X_test.to_numpy()\n",
        "np_y_train = y_train.to_numpy()\n",
        "np_y_test = y_test.to_numpy()"
      ]
    },
    {
      "cell_type": "code",
      "execution_count": null,
      "metadata": {
        "colab": {
          "base_uri": "https://localhost:8080/"
        },
        "id": "McJSB0vlbz57",
        "outputId": "2baf9120-6f1f-4ea0-9328-3fc8a17d6abe"
      },
      "outputs": [
        {
          "output_type": "stream",
          "name": "stdout",
          "text": [
            "[[1 1 1 ... 1 0 0]\n",
            " [1 1 1 ... 1 0 0]\n",
            " [1 0 0 ... 1 0 0]\n",
            " ...\n",
            " [1 1 1 ... 1 0 0]\n",
            " [1 1 1 ... 1 0 0]\n",
            " [0 1 0 ... 1 0 0]]\n"
          ]
        }
      ],
      "source": [
        "# Prueba - To_categorical => https://www.tensorflow.org/api_docs/python/tf/keras/utils/to_categorical => Cambia la forma en la que entran los datos, se rompe en modelo\n",
        "# X_train = to_categorical(X_train, 2)\n",
        "# X_test = to_categorical(X_test, 2)\n",
        "# y_train = to_categorical(y_train, 2)\n",
        "# y_test = to_categorical(y_test, 2)\n",
        "print(np_X_train)"
      ]
    },
    {
      "cell_type": "code",
      "execution_count": null,
      "metadata": {
        "colab": {
          "base_uri": "https://localhost:8080/"
        },
        "id": "PAjVSOrWomj0",
        "outputId": "a2c35517-ed9c-42f3-c5d1-b92f32dd34a2"
      },
      "outputs": [
        {
          "output_type": "stream",
          "name": "stdout",
          "text": [
            "342\n"
          ]
        }
      ],
      "source": [
        "\n",
        "#print(X_test)\n",
        "print(len(np_y_train))"
      ]
    },
    {
      "cell_type": "markdown",
      "metadata": {
        "id": "AHycynmilwAL"
      },
      "source": [
        "# Modelo"
      ]
    },
    {
      "cell_type": "code",
      "execution_count": null,
      "metadata": {
        "colab": {
          "base_uri": "https://localhost:8080/",
          "height": 777
        },
        "id": "qPOo2wsuyB1K",
        "outputId": "6888134f-65ad-4c14-eda8-80c67d58e785"
      },
      "outputs": [
        {
          "output_type": "stream",
          "name": "stdout",
          "text": [
            "Epoch 1/10\n",
            "\u001b[1m11/11\u001b[0m \u001b[32m━━━━━━━━━━━━━━━━━━━━\u001b[0m\u001b[37m\u001b[0m \u001b[1m4s\u001b[0m 73ms/step - acc: 0.6202 - loss: 1.3044\n",
            "Epoch 2/10\n",
            "\u001b[1m11/11\u001b[0m \u001b[32m━━━━━━━━━━━━━━━━━━━━\u001b[0m\u001b[37m\u001b[0m \u001b[1m1s\u001b[0m 67ms/step - acc: 0.9277 - loss: 0.2103\n",
            "Epoch 3/10\n",
            "\u001b[1m11/11\u001b[0m \u001b[32m━━━━━━━━━━━━━━━━━━━━\u001b[0m\u001b[37m\u001b[0m \u001b[1m2s\u001b[0m 93ms/step - acc: 0.9674 - loss: 0.0970\n",
            "Epoch 4/10\n",
            "\u001b[1m11/11\u001b[0m \u001b[32m━━━━━━━━━━━━━━━━━━━━\u001b[0m\u001b[37m\u001b[0m \u001b[1m1s\u001b[0m 104ms/step - acc: 0.9870 - loss: 0.0476\n",
            "Epoch 5/10\n",
            "\u001b[1m11/11\u001b[0m \u001b[32m━━━━━━━━━━━━━━━━━━━━\u001b[0m\u001b[37m\u001b[0m \u001b[1m1s\u001b[0m 107ms/step - acc: 0.9911 - loss: 0.0339\n",
            "Epoch 6/10\n",
            "\u001b[1m11/11\u001b[0m \u001b[32m━━━━━━━━━━━━━━━━━━━━\u001b[0m\u001b[37m\u001b[0m \u001b[1m3s\u001b[0m 148ms/step - acc: 0.9945 - loss: 0.0248\n",
            "Epoch 7/10\n",
            "\u001b[1m11/11\u001b[0m \u001b[32m━━━━━━━━━━━━━━━━━━━━\u001b[0m\u001b[37m\u001b[0m \u001b[1m1s\u001b[0m 44ms/step - acc: 0.9978 - loss: 0.0178\n",
            "Epoch 8/10\n",
            "\u001b[1m11/11\u001b[0m \u001b[32m━━━━━━━━━━━━━━━━━━━━\u001b[0m\u001b[37m\u001b[0m \u001b[1m1s\u001b[0m 46ms/step - acc: 0.9978 - loss: 0.0133\n",
            "Epoch 9/10\n",
            "\u001b[1m11/11\u001b[0m \u001b[32m━━━━━━━━━━━━━━━━━━━━\u001b[0m\u001b[37m\u001b[0m \u001b[1m1s\u001b[0m 42ms/step - acc: 1.0000 - loss: 0.0122\n",
            "Epoch 10/10\n",
            "\u001b[1m11/11\u001b[0m \u001b[32m━━━━━━━━━━━━━━━━━━━━\u001b[0m\u001b[37m\u001b[0m \u001b[1m1s\u001b[0m 46ms/step - acc: 1.0000 - loss: 0.0054\n"
          ]
        },
        {
          "output_type": "display_data",
          "data": {
            "text/plain": [
              "<Figure size 640x480 with 1 Axes>"
            ],
            "image/png": "[encoded data removed]"
          },
          "metadata": {}
        }
      ],
      "source": [
        "\n",
        "\n",
        "model = tf.keras.Sequential()\n",
        "model.add(tf.keras.layers.Dense(units=342, activation='relu'))\n",
        "model.add(tf.keras.layers.Dense(units=1, activation='sigmoid')) # Antes: Softmax\n",
        "\n",
        "opt = tf.keras.optimizers.Adam()\n",
        "model.compile(loss='binary_crossentropy', optimizer=opt, metrics=['acc'])\n",
        "\n",
        "# hist = model.fit(X_train, y_train, verbose=True, epochs=10)\n",
        "hist = model.fit(np_X_train, np_y_train, verbose=True, epochs=10)\n",
        "plt.plot(hist.history['acc'])\n",
        "plt.plot(hist.history['loss'])\n",
        "plt.show()"
      ]
    },
    {
      "cell_type": "markdown",
      "metadata": {
        "id": "JPsnLi_rma0v"
      },
      "source": [
        "# Ataque 1 = Generar muestras adversarias con FGSM"
      ]
    },
    {
      "cell_type": "code",
      "execution_count": null,
      "metadata": {
        "id": "P0pa3hjCdZuj"
      },
      "outputs": [],
      "source": [
        "# Crear un clasificador ART a partir del modelo de TensorFlow\n",
        "classifier = TensorFlowV2Classifier(\n",
        "    model=model,\n",
        "    input_shape=1,\n",
        "    clip_values=(0, 1),\n",
        "    nb_classes=2,\n",
        "    loss_object=tf.keras.losses.CategoricalCrossentropy()\n",
        ")\n",
        "\n",
        "# Evaluar el modelo en los datos de prueba limpios\n",
        "predictions = np.argmax(classifier.predict(np_X_test), axis=1)"
      ]
    },
    {
      "cell_type": "code",
      "execution_count": null,
      "metadata": {
        "colab": {
          "base_uri": "https://localhost:8080/"
        },
        "id": "_HBkFX-eFWt8",
        "outputId": "b9ad89ec-2dff-4a01-fadb-09c8e936abd3"
      },
      "outputs": [
        {
          "output_type": "stream",
          "name": "stdout",
          "text": [
            "86\n",
            "0\n"
          ]
        }
      ],
      "source": [
        "print(len(y_test))\n",
        "print(np.argmax(y_test))"
      ]
    },
    {
      "cell_type": "code",
      "execution_count": null,
      "metadata": {
        "colab": {
          "base_uri": "https://localhost:8080/"
        },
        "id": "iY5lVZX-kNMO",
        "outputId": "8fae4d3e-4161-4db1-d175-d5a2ee7ae4d3"
      },
      "outputs": [
        {
          "output_type": "stream",
          "name": "stdout",
          "text": [
            "Precisión en datos de prueba: 100.00%\n"
          ]
        },
        {
          "output_type": "stream",
          "name": "stderr",
          "text": [
            "/usr/local/lib/python3.10/dist-packages/keras/src/losses/losses.py:27: SyntaxWarning: In loss categorical_crossentropy, expected y_pred.shape to be (batch_size, num_classes) with num_classes > 1. Received: y_pred.shape=(32, 1). Consider using 'binary_crossentropy' if you only have 2 classes.\n",
            "  return self.fn(y_true, y_pred, **self._fn_kwargs)\n",
            "/usr/local/lib/python3.10/dist-packages/keras/src/losses/losses.py:27: SyntaxWarning: In loss categorical_crossentropy, expected y_pred.shape to be (batch_size, num_classes) with num_classes > 1. Received: y_pred.shape=(22, 1). Consider using 'binary_crossentropy' if you only have 2 classes.\n",
            "  return self.fn(y_true, y_pred, **self._fn_kwargs)\n"
          ]
        }
      ],
      "source": [
        "accuracy = np.sum(predictions == np.argmax(np_y_test)) / len(np_y_test)\n",
        "print(f\"Precisión en datos de prueba: {accuracy * 100:.2f}%\")\n",
        "\n",
        "attack = FastGradientMethod(estimator=classifier, eps=0.25)\n",
        "x_test_adv = attack.generate(x=np_X_test)\n"
      ]
    },
    {
      "cell_type": "code",
      "execution_count": null,
      "metadata": {
        "colab": {
          "base_uri": "https://localhost:8080/"
        },
        "id": "2LrEGPKgmb6b",
        "outputId": "ba3690aa-f906-4335-dcae-21ce05367d1a"
      },
      "outputs": [
        {
          "output_type": "execute_result",
          "data": {
            "text/plain": [
              "array([[1., 1., 1., ..., 1., 0., 0.],\n",
              "       [1., 1., 1., ..., 1., 0., 0.],\n",
              "       [0., 0., 0., ..., 1., 0., 0.],\n",
              "       ...,\n",
              "       [1., 1., 1., ..., 1., 0., 0.],\n",
              "       [0., 0., 0., ..., 1., 0., 0.],\n",
              "       [1., 1., 1., ..., 1., 0., 0.]], dtype=float32)"
            ]
          },
          "metadata": {},
          "execution_count": 19
        }
      ],
      "source": [
        "x_test_adv"
      ]
    },
    {
      "cell_type": "code",
      "execution_count": null,
      "metadata": {
        "colab": {
          "base_uri": "https://localhost:8080/"
        },
        "id": "5_b_7IHwEBE2",
        "outputId": "376bf015-3aa2-4ac2-b849-b92b3bf9ce9a"
      },
      "outputs": [
        {
          "output_type": "stream",
          "name": "stdout",
          "text": [
            "Precisión en datos adversarios: 0.00%\n",
            "Predicciones en muestras limpias: [0 0 0 0 0 0 0 0 0 0 0 0 0 0 0 0 0 0 0 0 0 0 0 0 0 0 0 0 0 0 0 0 0 0 0 0 0\n",
            " 0 0 0 0 0 0 0 0 0 0 0 0 0 0 0 0 0 0 0 0 0 0 0 0 0 0 0 0 0 0 0 0 0 0 0 0 0\n",
            " 0 0 0 0 0 0 0 0 0 0 0 0]\n",
            "Predicciones en muestras con FGSM: 8\n"
          ]
        }
      ],
      "source": [
        "\n",
        "# Evaluar el modelo en los datos adversarios\n",
        "predictions_adv = np.argmax(classifier.predict(x_test_adv))\n",
        "accuracy_adv = np.sum(predictions_adv == np.argmax(np_y_test)) / len(np_y_test)\n",
        "print(f\"Precisión en datos adversarios: {accuracy_adv * 100:.2f}%\")\n",
        "\n",
        "# Comparar predicciones antes y después del ataque\n",
        "print(\"Predicciones en muestras limpias:\", predictions)\n",
        "print(\"Predicciones en muestras con FGSM:\", predictions_adv)\n"
      ]
    },
    {
      "cell_type": "code",
      "execution_count": null,
      "metadata": {
        "colab": {
          "base_uri": "https://localhost:8080/"
        },
        "id": "GX7YXxxRdOrA",
        "outputId": "195b4d1b-14cc-4379-9662-a08ae73e8d58"
      },
      "outputs": [
        {
          "output_type": "stream",
          "name": "stdout",
          "text": [
            "86\n",
            "0.0\n"
          ]
        }
      ],
      "source": [
        "print(len(x_test_adv))\n",
        "print(accuracy_adv)"
      ]
    },
    {
      "cell_type": "code",
      "execution_count": null,
      "metadata": {
        "colab": {
          "base_uri": "https://localhost:8080/",
          "height": 485
        },
        "id": "jXh3iOYqxQUt",
        "outputId": "5c2a0742-bdf2-4689-a56c-16d63ed9c56f"
      },
      "outputs": [
        {
          "output_type": "stream",
          "name": "stdout",
          "text": [
            "\u001b[1m3/3\u001b[0m \u001b[32m━━━━━━━━━━━━━━━━━━━━\u001b[0m\u001b[37m\u001b[0m \u001b[1m0s\u001b[0m 14ms/step - acc: 0.5154 - loss: 4.1125 \n"
          ]
        },
        {
          "output_type": "display_data",
          "data": {
            "text/plain": [
              "<Figure size 1000x500 with 1 Axes>"
            ],
            "image/png": "[encoded data removed]"
          },
          "metadata": {}
        }
      ],
      "source": [
        "array_zeros = np.zeros(86, dtype=int)\n",
        "\n",
        "\n",
        "# Evaluar el modelo y graficar la pérdida y precisión\n",
        "history_test = model.evaluate(x_test_adv, array_zeros, verbose=True)\n",
        "\n",
        "# Graficar la pérdida y precisión\n",
        "plt.figure(figsize=(10, 5))\n",
        "plt.bar([\"Loss\", \"Accuracy\"], history_test, color=[\"blue\", \"green\"])\n",
        "plt.title(\"Evaluación en datos de prueba\")\n",
        "plt.show()"
      ]
    },
    {
      "cell_type": "markdown",
      "metadata": {
        "id": "EtKR-29S9EY9"
      },
      "source": [
        "# Ataque 2 - BasicIterativeMethod"
      ]
    },
    {
      "cell_type": "code",
      "execution_count": null,
      "metadata": {
        "id": "FyQcdaBQ9Fw7"
      },
      "outputs": [],
      "source": [
        "# Crear un clasificador ART a partir del modelo de TensorFlow\n",
        "classifier2 = TensorFlowV2Classifier(\n",
        "    model=model,\n",
        "    input_shape=1,\n",
        "    clip_values=(0, 1),\n",
        "    nb_classes=2,\n",
        "    loss_object=tf.keras.losses.CategoricalCrossentropy()\n",
        ")\n",
        "\n",
        "# Evaluar el modelo en los datos de prueba limpios\n",
        "predictions2 = np.argmax(classifier.predict(np_X_test), axis=1)\n"
      ]
    },
    {
      "cell_type": "code",
      "execution_count": null,
      "metadata": {
        "id": "NBATThOd9bGP"
      },
      "outputs": [],
      "source": [
        "from art.attacks.evasion import BasicIterativeMethod"
      ]
    },
    {
      "cell_type": "code",
      "execution_count": null,
      "metadata": {
        "colab": {
          "base_uri": "https://localhost:8080/",
          "height": 34,
          "referenced_widgets": [
            "aadeda79a00448e89e10bbb1bf527fd5",
            "10f20623b248468893154b4f3926d03a",
            "a2a586bfc86d4839b3034e4012ccefe5",
            "2e15a133b14d40ba8657f384c02f7ad2",
            "5055db86c0ab43328ee1f11e011f9c05",
            "5c91902fd6fc45368106cef67d78e8f3",
            "06e4b49691eb42d287b6df5bdc7aad3f",
            "a71bf6918fc34c4c8c2ba471cae3de7e",
            "24c4aa5ff78241589f47bbdfe176406a",
            "a65c9b87bfb340e18c9811e0a3f91323",
            "a7e85c01af384f50b57b451dbdea3616"
          ]
        },
        "id": "7P5xeJSe9S-f",
        "outputId": "f845b188-d3cb-4979-b282-4e39f03bf0f7"
      },
      "outputs": [
        {
          "output_type": "stream",
          "name": "stdout",
          "text": [
            "Precisión en datos de prueba: 100.00%\n"
          ]
        },
        {
          "output_type": "display_data",
          "data": {
            "text/plain": [
              "PGD - Batches: 0it [00:00, ?it/s]"
            ],
            "application/vnd.jupyter.widget-view+json": {
              "version_major": 2,
              "version_minor": 0,
              "model_id": "aadeda79a00448e89e10bbb1bf527fd5"
            }
          },
          "metadata": {}
        }
      ],
      "source": [
        "accuracy2 = np.sum(predictions2 == np.argmax(np_y_test)) / len(np_y_test)\n",
        "print(f\"Precisión en datos de prueba: {accuracy2 * 100:.2f}%\")\n",
        "\n",
        "attack2 = BasicIterativeMethod(estimator=classifier2)\n",
        "x_test_adv2 = attack2.generate(x=np_X_test)\n"
      ]
    },
    {
      "cell_type": "code",
      "execution_count": null,
      "metadata": {
        "colab": {
          "base_uri": "https://localhost:8080/"
        },
        "id": "bghNCmI4p-Mh",
        "outputId": "e0ac8a54-a879-427c-b7bb-b7b9efdd9ee8"
      },
      "outputs": [
        {
          "output_type": "stream",
          "name": "stdout",
          "text": [
            "86\n"
          ]
        }
      ],
      "source": [
        "print(len(x_test_adv2))"
      ]
    },
    {
      "cell_type": "code",
      "execution_count": null,
      "metadata": {
        "id": "xXDnoiKpqIq5"
      },
      "outputs": [],
      "source": [
        "\n",
        "df_x_test_adv2 = pd.DataFrame(x_test_adv2)"
      ]
    },
    {
      "cell_type": "code",
      "execution_count": null,
      "metadata": {
        "colab": {
          "base_uri": "https://localhost:8080/",
          "height": 485
        },
        "id": "Wd7pENOgdUQI",
        "outputId": "20cce273-20eb-4b9d-dd06-21ae9e72696d"
      },
      "outputs": [
        {
          "output_type": "stream",
          "name": "stdout",
          "text": [
            "\u001b[1m3/3\u001b[0m \u001b[32m━━━━━━━━━━━━━━━━━━━━\u001b[0m\u001b[37m\u001b[0m \u001b[1m0s\u001b[0m 10ms/step - acc: 0.5154 - loss: 4.1125\n"
          ]
        },
        {
          "output_type": "display_data",
          "data": {
            "text/plain": [
              "<Figure size 1000x500 with 1 Axes>"
            ],
            "image/png": "[encoded data removed]"
          },
          "metadata": {}
        }
      ],
      "source": [
        "array_zeros = np.zeros(86, dtype=int)\n",
        "\n",
        "\n",
        "# Evaluar el modelo y graficar la pérdida y precisión\n",
        "history_test2 = model.evaluate(x_test_adv2, array_zeros, verbose=True)\n",
        "\n",
        "# Graficar la pérdida y precisión\n",
        "plt.figure(figsize=(10, 5))\n",
        "plt.bar([\"Loss\", \"Accuracy\"], history_test2, color=[\"blue\", \"green\"])\n",
        "plt.title(\"Evaluación en datos de prueba BasicIterativeMethod\")\n",
        "plt.show()"
      ]
    },
    {
      "cell_type": "markdown",
      "metadata": {
        "id": "Rtq0etK7tooL"
      },
      "source": [
        "# Ataque 3 - ProjectedGradientDescent"
      ]
    },
    {
      "cell_type": "code",
      "execution_count": null,
      "metadata": {
        "id": "iQNrNshUt4WN"
      },
      "outputs": [],
      "source": [
        "from art.attacks.evasion import ProjectedGradientDescent"
      ]
    },
    {
      "cell_type": "code",
      "execution_count": null,
      "metadata": {
        "colab": {
          "base_uri": "https://localhost:8080/",
          "height": 34,
          "referenced_widgets": [
            "9f83f9cd2afa4df59a641ba7059e8c5b",
            "7dc818e188c44f2c8e4d3d4f82667a05",
            "b255b93e74fc477e8984d9ffb9472576",
            "69aa5fa166ba4b399a6d83546ee2feb2",
            "98ac9478353347efbc8037f775ffdb6c",
            "32d2c54426904b4f8644ef07a5ce04dc",
            "2aa34bc3584e44968d80d77fd87d9277",
            "3cd05a829e6246e59f5bb852fb2fb767",
            "0aaa5ac816434bcb8a821e37ef029b2a",
            "80a9154e922f4548ac94ac28e1d0f817",
            "aa04b634b4ba4d6c8780ba131e7846c8"
          ]
        },
        "id": "rKIsKB94t-zd",
        "outputId": "6fa6de69-8976-488f-95a0-251dd8a76ff0"
      },
      "outputs": [
        {
          "output_type": "stream",
          "name": "stdout",
          "text": [
            "Precisión en datos de prueba: 100.00%\n"
          ]
        },
        {
          "output_type": "display_data",
          "data": {
            "text/plain": [
              "PGD - Batches: 0it [00:00, ?it/s]"
            ],
            "application/vnd.jupyter.widget-view+json": {
              "version_major": 2,
              "version_minor": 0,
              "model_id": "9f83f9cd2afa4df59a641ba7059e8c5b"
            }
          },
          "metadata": {}
        }
      ],
      "source": [
        "# Crear un clasificador ART a partir del modelo de TensorFlow\n",
        "classifier3 = TensorFlowV2Classifier(\n",
        "    model=model,\n",
        "    input_shape=1,\n",
        "    clip_values=(0, 1),\n",
        "    nb_classes=2,\n",
        "    loss_object=tf.keras.losses.CategoricalCrossentropy()\n",
        ")\n",
        "\n",
        "# Evaluar el modelo en los datos de prueba limpios\n",
        "predictions3 = np.argmax(classifier3.predict(np_X_test), axis=1)\n",
        "\n",
        "\n",
        "accuracy3 = np.sum(predictions3 == np.argmax(np_y_test)) / len(np_y_test)\n",
        "print(f\"Precisión en datos de prueba: {accuracy3 * 100:.2f}%\")\n",
        "\n",
        "attack3 = ProjectedGradientDescent(estimator=classifier3)\n",
        "x_test_adv3 = attack3.generate(x=np_X_test)\n",
        "df_x_test_adv3 = pd.DataFrame(x_test_adv3)\n"
      ]
    },
    {
      "cell_type": "code",
      "execution_count": null,
      "metadata": {
        "colab": {
          "base_uri": "https://localhost:8080/",
          "height": 485
        },
        "id": "Pb7wEG3ndbLX",
        "outputId": "fa8d87f5-0d8b-4ee6-de5f-fd4f21bd9766"
      },
      "outputs": [
        {
          "output_type": "stream",
          "name": "stdout",
          "text": [
            "\u001b[1m3/3\u001b[0m \u001b[32m━━━━━━━━━━━━━━━━━━━━\u001b[0m\u001b[37m\u001b[0m \u001b[1m0s\u001b[0m 16ms/step - acc: 0.5154 - loss: 4.1125\n"
          ]
        },
        {
          "output_type": "display_data",
          "data": {
            "text/plain": [
              "<Figure size 1000x500 with 1 Axes>"
            ],
            "image/png": "[encoded data removed]"
          },
          "metadata": {}
        }
      ],
      "source": [
        "\n",
        "\n",
        "# Evaluar el modelo y graficar la pérdida y precisión\n",
        "history_test3 = model.evaluate(x_test_adv3, array_zeros, verbose=True)\n",
        "\n",
        "# Graficar la pérdida y precisión\n",
        "plt.figure(figsize=(10, 5))\n",
        "plt.bar([\"Loss\", \"Accuracy\"], history_test3, color=[\"blue\", \"green\"])\n",
        "plt.title(\"Evaluación en datos de prueba 2\")\n",
        "plt.show()"
      ]
    },
    {
      "cell_type": "code",
      "execution_count": null,
      "metadata": {
        "id": "d1tF9rA7vHUl"
      },
      "outputs": [],
      "source": [
        "#from art.attacks.evasion import SaliencyMapMethod # Da un error: InvalidArgumentError: {{function_node __wrapped__StridedSlice_device_/job:localhost/replica:0/task:0/device:CPU:0}} slice index 1 of dimension 1 out of bounds. [Op:StridedSlice] name: strided_slice/"
      ]
    },
    {
      "cell_type": "markdown",
      "metadata": {
        "id": "ut-OpJMAxSrn"
      },
      "source": [
        "# Ataque 4 - ZOO - Error: Casting"
      ]
    },
    {
      "cell_type": "code",
      "execution_count": null,
      "metadata": {
        "id": "NhX70mqJxRvx"
      },
      "outputs": [],
      "source": [
        "# from art.attacks.evasion import DeepFool\n",
        "# from art.attacks.evasion import CarliniLInfMethod\n",
        "# from art.attacks.evasion import CarliniL2Method # Error:\n",
        "# ValueError: This attack has not yet been tested for binary classification with a single output classifier."
      ]
    },
    {
      "cell_type": "code",
      "execution_count": null,
      "metadata": {
        "id": "EEU_xIACx9NH"
      },
      "outputs": [],
      "source": [
        "from art.attacks.evasion import ZooAttack\n"
      ]
    },
    {
      "cell_type": "code",
      "execution_count": null,
      "metadata": {
        "id": "4nYTs9uh2qcz"
      },
      "outputs": [],
      "source": [
        "model.add(tf.keras.layers.Dense(2, activation=\"softmax\"))"
      ]
    },
    {
      "cell_type": "code",
      "execution_count": null,
      "metadata": {
        "colab": {
          "base_uri": "https://localhost:8080/"
        },
        "id": "iFeCjK2y1_wG",
        "outputId": "a2da53d5-a228-4b83-a3fd-0592fb833ff5"
      },
      "outputs": [
        {
          "output_type": "stream",
          "name": "stdout",
          "text": [
            "Forma de x_test: (86, 10138)\n"
          ]
        }
      ],
      "source": [
        "\n",
        "# Validar la forma de los datos de entrada\n",
        "print(\"Forma de x_test:\", np_X_test.shape)"
      ]
    },
    {
      "cell_type": "code",
      "execution_count": null,
      "metadata": {
        "colab": {
          "base_uri": "https://localhost:8080/",
          "height": 49,
          "referenced_widgets": [
            "6575a75d7acb41e9a8315671ba08c2fe",
            "2af45fcf4e3e491394a1ba8bfeb72495",
            "42ed803e8ed7405f9e9619d1eacc15a1",
            "68a1df8bfa01417f8fd1e7efcad55018",
            "3492d5adb1cc49e3aa158fd52406ba31",
            "98357b3b1b424fd3bfa69218753eb75e",
            "49974dd06ef848ccb049fc748a0ffbe5",
            "266938d3ab4f473190a2d051526c7e12",
            "942d95c667984d1582e9de461b88af0c",
            "ed6549b0f44b4ca9865b310a2e4f1aba",
            "747249a1dd524d3fa688eaace36111b0"
          ]
        },
        "id": "ROF4BZpXxiXs",
        "outputId": "2ae04ede-f1ee-497e-ca3e-e30c6f705cea"
      },
      "outputs": [
        {
          "output_type": "display_data",
          "data": {
            "text/plain": [
              "ZOO:   0%|          | 0/86 [00:00<?, ?it/s]"
            ],
            "application/vnd.jupyter.widget-view+json": {
              "version_major": 2,
              "version_minor": 0,
              "model_id": "6575a75d7acb41e9a8315671ba08c2fe"
            }
          },
          "metadata": {}
        }
      ],
      "source": [
        "# Crear un clasificador ART a partir del modelo de TensorFlow\n",
        "classifier5 = TensorFlowV2Classifier(\n",
        "     model=model,  # Tu modelo TensorFlow/Keras\n",
        "    input_shape=(10138,),  # 10138 características por muestra\n",
        "    clip_values=(0, 1),  # Rango de valores de entrada (por ejemplo, imágenes normalizadas)\n",
        "    nb_classes=2,  # Número de clases en el modelo\n",
        "    loss_object=tf.keras.losses.CategoricalCrossentropy()\n",
        ")\n",
        "\n",
        "# Configurar el ataque ZOO\n",
        "attack5 = ZooAttack(\n",
        "    classifier=classifier5,\n",
        "    confidence=0.0,  # Confianza deseada en los ejemplos adversarios\n",
        "    targeted=False,  # Es un ataque no dirigido (no seleccionamos una clase específica como objetivo)\n",
        "    learning_rate=0.01,  # Tasa de aprendizaje\n",
        "    max_iter=10,  # Número máximo de iteraciones\n",
        "    binary_search_steps=5,  # Número de pasos para búsqueda binaria\n",
        "    initial_const=0.01,  # Constante inicial de ataque\n",
        "    abort_early=True  # Finaliza antes si no hay progreso\n",
        ")\n",
        "\n",
        "np_X_test= np_X_test.astype('float64')\n",
        "\n",
        "# Generar ejemplos adversarios\n",
        "x_test_adv5 = attack5.generate(x=np_X_test)\n",
        "\n",
        "# # Evaluar el modelo en los datos de prueba limpios\n",
        "# predictions5 = np.argmax(classifier5.predict(np_X_test), axis=1)\n",
        "\n",
        "\n",
        "# accuracy5 = np.sum(predictions3 == np.argmax(np_y_test)) / len(np_y_test)\n",
        "# print(f\"Precisión en datos de prueba: {accuracy5 * 100:.2f}%\")\n",
        "\n",
        "# attack5 = ZooAttack(classifier=classifier5)\n",
        "# x_test_adv5 = attack5.generate(x=np_X_test)\n",
        "# df_x_test_adv5 = pd.DataFrame(x_test_adv5)\n"
      ]
    },
    {
      "cell_type": "code",
      "source": [
        "df_x_test_adv5 = pd.DataFrame(x_test_adv5)"
      ],
      "metadata": {
        "id": "IP_DoShquUXp"
      },
      "execution_count": null,
      "outputs": []
    },
    {
      "cell_type": "code",
      "execution_count": null,
      "metadata": {
        "colab": {
          "base_uri": "https://localhost:8080/",
          "height": 485
        },
        "id": "ETwMuIaxdfp3",
        "outputId": "a1b380ec-5e97-409d-856d-51e7fd9c5d6e"
      },
      "outputs": [
        {
          "output_type": "stream",
          "name": "stdout",
          "text": [
            "\u001b[1m3/3\u001b[0m \u001b[32m━━━━━━━━━━━━━━━━━━━━\u001b[0m\u001b[37m\u001b[0m \u001b[1m0s\u001b[0m 18ms/step - acc: 0.5154 - loss: 4.1125\n"
          ]
        },
        {
          "output_type": "display_data",
          "data": {
            "text/plain": [
              "<Figure size 1000x500 with 1 Axes>"
            ],
            "image/png": "[encoded data removed]"
          },
          "metadata": {}
        }
      ],
      "source": [
        "\n",
        "\n",
        "# Evaluar el modelo y graficar la pérdida y precisión\n",
        "history_test5 = model.evaluate(x_test_adv5, array_zeros, verbose=True)\n",
        "\n",
        "# Graficar la pérdida y precisión\n",
        "plt.figure(figsize=(10, 5))\n",
        "plt.bar([\"Loss\", \"Accuracy\"], history_test5, color=[\"blue\", \"green\"])\n",
        "plt.title(\"Evaluación en datos de prueba Zoo\")\n",
        "plt.show()"
      ]
    },
    {
      "cell_type": "markdown",
      "metadata": {
        "id": "hIjc2j373a4r"
      },
      "source": [
        "# Ataque 5 - DeepFool"
      ]
    },
    {
      "cell_type": "code",
      "execution_count": null,
      "metadata": {
        "id": "g7KW9cuo3ieL"
      },
      "outputs": [],
      "source": [
        "from art.attacks.evasion import DeepFool"
      ]
    },
    {
      "cell_type": "code",
      "execution_count": null,
      "metadata": {
        "colab": {
          "base_uri": "https://localhost:8080/",
          "height": 121,
          "referenced_widgets": [
            "c203a0943b3146d092f97004f256b8bb",
            "1d846edf90c242808b3b43cfaecdaa39",
            "b12e74aaa04041bbb7cccb142730c8e0",
            "fccc70fae8de48a3aa8077481875ef95",
            "2e2d18564c5142428b3c5b2789387184",
            "adc9022193804392b6fd237ea97e4c94",
            "80af5e3991a5417b93656d281ea5517a",
            "b259ee07a3c34b1194990db2a7074e85",
            "4dc95b2736b14ca9ad06dbe88e724fad",
            "e9f92c374ac24f6381646e139cd6ce06",
            "1372c341cabf4f7caefeb60b290ac35c"
          ]
        },
        "id": "aHMMMGpC3m1e",
        "outputId": "dda1350c-6347-40f7-e367-3e0da9cb22cd"
      },
      "outputs": [
        {
          "output_type": "stream",
          "name": "stdout",
          "text": [
            "Precisión en datos de prueba: 100.00%\n"
          ]
        },
        {
          "output_type": "stream",
          "name": "stderr",
          "text": [
            "WARNING:art.attacks.evasion.deepfool:It seems that the attacked model is predicting probabilities. DeepFool expects logits as model output to achieve its full attack strength.\n"
          ]
        },
        {
          "output_type": "display_data",
          "data": {
            "text/plain": [
              "DeepFool:   0%|          | 0/86 [00:00<?, ?it/s]"
            ],
            "application/vnd.jupyter.widget-view+json": {
              "version_major": 2,
              "version_minor": 0,
              "model_id": "c203a0943b3146d092f97004f256b8bb"
            }
          },
          "metadata": {}
        },
        {
          "output_type": "stream",
          "name": "stderr",
          "text": [
            "WARNING:tensorflow:Calling GradientTape.gradient on a persistent tape inside its context is significantly less efficient than calling it outside the context (it causes the gradient ops to be recorded on the tape, leading to increased CPU and memory usage). Only call GradientTape.gradient inside the context if you actually want to trace the gradient in order to compute higher order derivatives.\n"
          ]
        }
      ],
      "source": [
        "# Crear un clasificador ART a partir del modelo de TensorFlow\n",
        "classifier4 = TensorFlowV2Classifier(\n",
        "    model=model,\n",
        "    input_shape=1,\n",
        "    clip_values=(0, 1),\n",
        "    nb_classes=2,\n",
        "    loss_object=tf.keras.losses.CategoricalCrossentropy()\n",
        ")\n",
        "\n",
        "# Evaluar el modelo en los datos de prueba limpios\n",
        "predictions4 = np.argmax(classifier4.predict(np_X_test), axis=1)\n",
        "\n",
        "\n",
        "accuracy4 = np.sum(predictions4 == np.argmax(np_y_test)) / len(np_y_test)\n",
        "print(f\"Precisión en datos de prueba: {accuracy4 * 100:.2f}%\")\n",
        "\n",
        "attack4 = DeepFool(classifier=classifier4)\n",
        "x_test_adv4 = attack4.generate(x=np_X_test)\n",
        "df_x_test_adv4 = pd.DataFrame(x_test_adv4)\n"
      ]
    },
    {
      "cell_type": "code",
      "execution_count": null,
      "metadata": {
        "colab": {
          "base_uri": "https://localhost:8080/",
          "height": 485
        },
        "id": "JFt4aPcDdjuu",
        "outputId": "4657d5c1-5772-4633-e630-6ccaf7571544"
      },
      "outputs": [
        {
          "output_type": "stream",
          "name": "stdout",
          "text": [
            "\u001b[1m3/3\u001b[0m \u001b[32m━━━━━━━━━━━━━━━━━━━━\u001b[0m\u001b[37m\u001b[0m \u001b[1m0s\u001b[0m 10ms/step - acc: 0.9825 - loss: 0.3027\n"
          ]
        },
        {
          "output_type": "display_data",
          "data": {
            "text/plain": [
              "<Figure size 1000x500 with 1 Axes>"
            ],
            "image/png": "[encoded data removed]"
          },
          "metadata": {}
        }
      ],
      "source": [
        "\n",
        "\n",
        "# Evaluar el modelo y graficar la pérdida y precisión\n",
        "history_test4 = model.evaluate(x_test_adv4, array_zeros, verbose=True)\n",
        "\n",
        "# Graficar la pérdida y precisión\n",
        "plt.figure(figsize=(10, 5))\n",
        "plt.bar([\"Loss\", \"Accuracy\"], history_test4, color=[\"blue\", \"green\"])\n",
        "plt.title(\"Evaluación en datos de prueba DeepFool\")\n",
        "plt.show()"
      ]
    },
    {
      "cell_type": "markdown",
      "metadata": {
        "id": "x2elnMdB5KEf"
      },
      "source": [
        "# Ataque 6 - CarliniL2Method"
      ]
    },
    {
      "cell_type": "code",
      "execution_count": null,
      "metadata": {
        "id": "0xwSoVmK5OlT"
      },
      "outputs": [],
      "source": [
        "from art.attacks.evasion import CarliniL2Method"
      ]
    },
    {
      "cell_type": "code",
      "execution_count": null,
      "metadata": {
        "colab": {
          "base_uri": "https://localhost:8080/",
          "height": 104,
          "referenced_widgets": [
            "4fe1975d787d49349af11b585de94e48",
            "11b9578d3fd64f4db64f006bd9bcbc29",
            "d51b164ecab743cdb83881c73fcb639a",
            "708c370758494b759fb8736ef206b20c",
            "147f3aae20724c8598568e85f0ec3ede",
            "2e555ae41f5843a99d7b27f1f989e633",
            "60c5f80cf7c84ae5897ceeb0d0ea40af",
            "058bcf246e25446ca2d403b9e4bc2ca7",
            "17578f702cb14ce1b35d9668d087bae5",
            "b94c172836544ccd9f1b4c5cf88593cc",
            "e0ebc6d408f74fccb4cd8d3798321386"
          ]
        },
        "id": "LWcFnU-u5X1a",
        "outputId": "a45811db-b517-4511-e5a1-f617cdc647ea"
      },
      "outputs": [
        {
          "output_type": "stream",
          "name": "stdout",
          "text": [
            "Precisión en datos de prueba: 100.00%\n"
          ]
        },
        {
          "output_type": "display_data",
          "data": {
            "text/plain": [
              "C&W L_2:   0%|          | 0/86 [00:00<?, ?it/s]"
            ],
            "application/vnd.jupyter.widget-view+json": {
              "version_major": 2,
              "version_minor": 0,
              "model_id": "4fe1975d787d49349af11b585de94e48"
            }
          },
          "metadata": {}
        },
        {
          "output_type": "stream",
          "name": "stderr",
          "text": [
            "WARNING:tensorflow:Calling GradientTape.gradient on a persistent tape inside its context is significantly less efficient than calling it outside the context (it causes the gradient ops to be recorded on the tape, leading to increased CPU and memory usage). Only call GradientTape.gradient inside the context if you actually want to trace the gradient in order to compute higher order derivatives.\n"
          ]
        }
      ],
      "source": [
        "# Crear un clasificador ART a partir del modelo de TensorFlow\n",
        "classifier6 = TensorFlowV2Classifier(\n",
        "    model=model,\n",
        "    input_shape=len(np_X_test),\n",
        "    clip_values=(0, 1),\n",
        "    nb_classes=2,\n",
        "    loss_object=tf.keras.losses.CategoricalCrossentropy()\n",
        ")\n",
        "\n",
        "# Evaluar el modelo en los datos de prueba limpios\n",
        "predictions6 = np.argmax(classifier6.predict(np_X_test), axis=1)\n",
        "\n",
        "\n",
        "accuracy6 = np.sum(predictions6 == np.argmax(np_y_test)) / len(np_y_test)\n",
        "print(f\"Precisión en datos de prueba: {accuracy6 * 100:.2f}%\")\n",
        "\n",
        "attack6 = CarliniL2Method(classifier=classifier6)\n",
        "x_test_adv6 = attack6.generate(x=np_X_test)\n",
        "df_x_test_adv6 = pd.DataFrame(x_test_adv6)\n"
      ]
    },
    {
      "cell_type": "code",
      "execution_count": null,
      "metadata": {
        "colab": {
          "base_uri": "https://localhost:8080/",
          "height": 485
        },
        "id": "pYMVP4yzdnLD",
        "outputId": "45943691-8031-4fbe-89a5-e779173fba39"
      },
      "outputs": [
        {
          "output_type": "stream",
          "name": "stdout",
          "text": [
            "\u001b[1m3/3\u001b[0m \u001b[32m━━━━━━━━━━━━━━━━━━━━\u001b[0m\u001b[37m\u001b[0m \u001b[1m0s\u001b[0m 9ms/step - acc: 0.5154 - loss: 4.1125 \n"
          ]
        },
        {
          "output_type": "display_data",
          "data": {
            "text/plain": [
              "<Figure size 1000x500 with 1 Axes>"
            ],
            "image/png": "[encoded data removed]"
          },
          "metadata": {}
        }
      ],
      "source": [
        "\n",
        "\n",
        "# Evaluar el modelo y graficar la pérdida y precisión\n",
        "history_test6 = model.evaluate(x_test_adv6, array_zeros, verbose=True)\n",
        "\n",
        "# Graficar la pérdida y precisión\n",
        "plt.figure(figsize=(10, 5))\n",
        "plt.bar([\"Loss\", \"Accuracy\"], history_test6, color=[\"blue\", \"green\"])\n",
        "plt.title(\"Evaluación en datos de prueba CarliniL2Method\")\n",
        "plt.show()"
      ]
    },
    {
      "cell_type": "markdown",
      "metadata": {
        "id": "IJFBCyr-8g5A"
      },
      "source": [
        "# Ataque 7 - CarliniLInfMethod"
      ]
    },
    {
      "cell_type": "code",
      "execution_count": null,
      "metadata": {
        "id": "G5vEI7E38jId"
      },
      "outputs": [],
      "source": [
        "from art.attacks.evasion import CarliniLInfMethod"
      ]
    },
    {
      "cell_type": "code",
      "execution_count": null,
      "metadata": {
        "colab": {
          "base_uri": "https://localhost:8080/",
          "height": 66,
          "referenced_widgets": [
            "1028c3dd71804a4aa71fdced0228ef8d",
            "6ff4ddf9d06941d69e26cfb38aedd20b",
            "742fc06faeab474c8fdda8374112ff6d",
            "510097409a2646b785141c617202f637",
            "34752824f04d4044819d2e7f8b05afb5",
            "ba81258103474ac3878dac3025fc232a",
            "5489d5a412924a2890ec73ff030b2a9b",
            "65d3823146c24f88b885b0212bddda01",
            "46c9725243d94031824fa996d72325a6",
            "de3a42783b594f4fa7d194f6ef3cccc3",
            "785c81b11843488b9aa750db34d67b76"
          ]
        },
        "id": "dTb6sjQP8n8M",
        "outputId": "6f4692a8-edae-4559-b4f7-b76cc42dbf8d"
      },
      "outputs": [
        {
          "output_type": "stream",
          "name": "stdout",
          "text": [
            "Precisión en datos de prueba: 100.00%\n"
          ]
        },
        {
          "output_type": "display_data",
          "data": {
            "text/plain": [
              "C&W L_inf:   0%|          | 0/86 [00:00<?, ?it/s]"
            ],
            "application/vnd.jupyter.widget-view+json": {
              "version_major": 2,
              "version_minor": 0,
              "model_id": "1028c3dd71804a4aa71fdced0228ef8d"
            }
          },
          "metadata": {}
        }
      ],
      "source": [
        "# Crear un clasificador ART a partir del modelo de TensorFlow\n",
        "classifier7 = TensorFlowV2Classifier(\n",
        "    model=model,\n",
        "    input_shape=len(np_X_test),\n",
        "    clip_values=(0, 1),\n",
        "    nb_classes=2,\n",
        "    loss_object=tf.keras.losses.CategoricalCrossentropy()\n",
        ")\n",
        "\n",
        "# Evaluar el modelo en los datos de prueba limpios\n",
        "predictions7 = np.argmax(classifier7.predict(np_X_test), axis=1)\n",
        "\n",
        "\n",
        "accuracy7 = np.sum(predictions7 == np.argmax(np_y_test)) / len(np_y_test)\n",
        "print(f\"Precisión en datos de prueba: {accuracy7 * 100:.2f}%\")\n",
        "\n",
        "attack7 = CarliniLInfMethod(classifier=classifier7)\n",
        "x_test_adv7 = attack7.generate(x=np_X_test)\n",
        "df_x_test_adv7 = pd.DataFrame(x_test_adv7)\n"
      ]
    },
    {
      "cell_type": "code",
      "execution_count": null,
      "metadata": {
        "colab": {
          "base_uri": "https://localhost:8080/",
          "height": 485
        },
        "id": "_BC7jFm7dp7D",
        "outputId": "c9b63268-a772-4f2b-8779-17bc2eaa856e"
      },
      "outputs": [
        {
          "output_type": "stream",
          "name": "stdout",
          "text": [
            "\u001b[1m3/3\u001b[0m \u001b[32m━━━━━━━━━━━━━━━━━━━━\u001b[0m\u001b[37m\u001b[0m \u001b[1m0s\u001b[0m 9ms/step - acc: 0.5154 - loss: 4.1125 \n"
          ]
        },
        {
          "output_type": "display_data",
          "data": {
            "text/plain": [
              "<Figure size 1000x500 with 1 Axes>"
            ],
            "image/png": "[encoded data removed]"
          },
          "metadata": {}
        }
      ],
      "source": [
        "\n",
        "\n",
        "# Evaluar el modelo y graficar la pérdida y precisión\n",
        "history_test7 = model.evaluate(x_test_adv7, array_zeros, verbose=True)\n",
        "\n",
        "# Graficar la pérdida y precisión\n",
        "plt.figure(figsize=(10, 5))\n",
        "plt.bar([\"Loss\", \"Accuracy\"], history_test7, color=[\"blue\", \"green\"])\n",
        "plt.title(\"Evaluación en datos de prueba CarliniLInfMethod\")\n",
        "plt.show()"
      ]
    },
    {
      "cell_type": "markdown",
      "metadata": {
        "id": "HtrYvMsK9f1g"
      },
      "source": [
        "# Ataque 8 - BoundaryAttack"
      ]
    },
    {
      "cell_type": "code",
      "execution_count": null,
      "metadata": {
        "id": "z_qhZA1w9liX"
      },
      "outputs": [],
      "source": [
        "from art.attacks.evasion import BoundaryAttack"
      ]
    },
    {
      "cell_type": "code",
      "execution_count": null,
      "metadata": {
        "colab": {
          "base_uri": "https://localhost:8080/",
          "height": 66,
          "referenced_widgets": [
            "a46e08461e5849bebb347af6f1348eec",
            "804d67e1e7144ec684a083f0d36c7f50",
            "95d61189956546118d79817b4082d598",
            "c014e8b15ea54c87ae9c073243bb3b00",
            "4fcf57210947424fb7b4184350346986",
            "2cbb55208e994d1d99b52344bca839d2",
            "a21eb7a6e4e44bc28a04b79058875b5a",
            "a306675b881f45a3a338fee2a00880f7",
            "d00500dfd54041deb3326c948837bc18",
            "755a6082c1f84a408eaa2f6f7b6dd940",
            "c398caec33c94b68a30c51f9824412a7"
          ]
        },
        "id": "0NDeXvUX9qGK",
        "outputId": "22015944-666e-4ab8-929d-286032636247"
      },
      "outputs": [
        {
          "output_type": "stream",
          "name": "stdout",
          "text": [
            "Precisión en datos de prueba: 100.00%\n"
          ]
        },
        {
          "output_type": "display_data",
          "data": {
            "text/plain": [
              "Boundary attack:   0%|          | 0/86 [00:00<?, ?it/s]"
            ],
            "application/vnd.jupyter.widget-view+json": {
              "version_major": 2,
              "version_minor": 0,
              "model_id": "a46e08461e5849bebb347af6f1348eec"
            }
          },
          "metadata": {}
        }
      ],
      "source": [
        "# Crear un clasificador ART a partir del modelo de TensorFlow\n",
        "classifier8 = TensorFlowV2Classifier(\n",
        "    model=model,\n",
        "    input_shape=len(np_X_test),\n",
        "    clip_values=(0, 1),\n",
        "    nb_classes=2,\n",
        "    loss_object=tf.keras.losses.CategoricalCrossentropy()\n",
        ")\n",
        "\n",
        "# Evaluar el modelo en los datos de prueba limpios\n",
        "predictions8 = np.argmax(classifier8.predict(np_X_test), axis=1)\n",
        "\n",
        "\n",
        "accuracy8 = np.sum(predictions8 == np.argmax(np_y_test)) / len(np_y_test)\n",
        "print(f\"Precisión en datos de prueba: {accuracy8 * 100:.2f}%\")\n",
        "\n",
        "attack8 = BoundaryAttack(estimator=classifier8)\n",
        "x_test_adv8 = attack8.generate(x=np_X_test, y=array_zeros)\n",
        "df_x_test_adv8 = pd.DataFrame(x_test_adv8)\n"
      ]
    },
    {
      "cell_type": "code",
      "execution_count": null,
      "metadata": {
        "colab": {
          "base_uri": "https://localhost:8080/",
          "height": 485
        },
        "id": "ipJlUWAjdtX-",
        "outputId": "0560227c-0bf0-4409-8ee1-0562891411fc"
      },
      "outputs": [
        {
          "output_type": "stream",
          "name": "stdout",
          "text": [
            "\u001b[1m3/3\u001b[0m \u001b[32m━━━━━━━━━━━━━━━━━━━━\u001b[0m\u001b[37m\u001b[0m \u001b[1m0s\u001b[0m 11ms/step - acc: 0.5154 - loss: 4.1125\n"
          ]
        },
        {
          "output_type": "display_data",
          "data": {
            "text/plain": [
              "<Figure size 1000x500 with 1 Axes>"
            ],
            "image/png": "[encoded data removed]"
          },
          "metadata": {}
        }
      ],
      "source": [
        "\n",
        "\n",
        "# Evaluar el modelo y graficar la pérdida y precisión\n",
        "history_test8 = model.evaluate(x_test_adv8, array_zeros, verbose=True)\n",
        "\n",
        "# Graficar la pérdida y precisión\n",
        "plt.figure(figsize=(10, 5))\n",
        "plt.bar([\"Loss\", \"Accuracy\"], history_test8, color=[\"blue\", \"green\"])\n",
        "plt.title(\"Evaluación en datos de prueba 8\")\n",
        "plt.show()"
      ]
    },
    {
      "cell_type": "markdown",
      "metadata": {
        "id": "Aqk7p4SH-qER"
      },
      "source": [
        "# Ataque 9 - HopSkipJump"
      ]
    },
    {
      "cell_type": "code",
      "execution_count": null,
      "metadata": {
        "id": "HF4ssWyL_vot"
      },
      "outputs": [],
      "source": [
        "# from art.attacks.evasion import AdversarialPatch # Error: TypeError: object of type 'int' has no len()\n",
        "# from art.attacks.evasion import DecisionTreeAttack # EstimatorError: DecisionTreeAttack requires an estimator derived from <class 'art.estimators.classification.scikitlearn.ScikitlearnDecisionTreeClassifier'>\n",
        "from art.attacks.evasion import HopSkipJump"
      ]
    },
    {
      "cell_type": "code",
      "execution_count": null,
      "metadata": {
        "colab": {
          "base_uri": "https://localhost:8080/",
          "height": 1000,
          "referenced_widgets": [
            "eb9ca76d484e4572ab05200304f083a1",
            "05c450272ae94ba8a80e3e8a44cd83dc",
            "8374f18935834a5fad97519984cc2999",
            "2ed87a8f2b8c413c84f9ccb60eebcca4",
            "68d70dbc8b824a238b3cd51a50b45056",
            "f79b088bed024ebabd8de7072dab4bb8",
            "1a161689a3354e0f98c5a9a607ce654f",
            "ae2d003b84ba49fcb594695ccdc52623",
            "3a7d0ac536eb422ca4fe594ae5fd34b8",
            "ce6ca06c75454a3ebfbf21076ddebd14",
            "e32d5d6f32bd4436a59bf2b628447cd4"
          ]
        },
        "id": "VOTrR6xD_zgs",
        "outputId": "23321d33-b799-4ede-a3ee-454bbf352c9c"
      },
      "outputs": [
        {
          "output_type": "stream",
          "name": "stdout",
          "text": [
            "Precisión en datos de prueba: 100.00%\n"
          ]
        },
        {
          "output_type": "display_data",
          "data": {
            "text/plain": [
              "HopSkipJump:   0%|          | 0/86 [00:00<?, ?it/s]"
            ],
            "application/vnd.jupyter.widget-view+json": {
              "version_major": 2,
              "version_minor": 0,
              "model_id": "eb9ca76d484e4572ab05200304f083a1"
            }
          },
          "metadata": {}
        },
        {
          "output_type": "stream",
          "name": "stderr",
          "text": [
            "WARNING:art.attacks.evasion.hop_skip_jump:Failed to draw a random image that is adversarial, attack failed.\n",
            "WARNING:art.attacks.evasion.hop_skip_jump:Failed to draw a random image that is adversarial, attack failed.\n",
            "WARNING:art.attacks.evasion.hop_skip_jump:Failed to draw a random image that is adversarial, attack failed.\n",
            "WARNING:art.attacks.evasion.hop_skip_jump:Failed to draw a random image that is adversarial, attack failed.\n",
            "WARNING:art.attacks.evasion.hop_skip_jump:Failed to draw a random image that is adversarial, attack failed.\n",
            "WARNING:art.attacks.evasion.hop_skip_jump:Failed to draw a random image that is adversarial, attack failed.\n",
            "WARNING:art.attacks.evasion.hop_skip_jump:Failed to draw a random image that is adversarial, attack failed.\n",
            "WARNING:art.attacks.evasion.hop_skip_jump:Failed to draw a random image that is adversarial, attack failed.\n",
            "WARNING:art.attacks.evasion.hop_skip_jump:Failed to draw a random image that is adversarial, attack failed.\n",
            "WARNING:art.attacks.evasion.hop_skip_jump:Failed to draw a random image that is adversarial, attack failed.\n",
            "WARNING:art.attacks.evasion.hop_skip_jump:Failed to draw a random image that is adversarial, attack failed.\n",
            "WARNING:art.attacks.evasion.hop_skip_jump:Failed to draw a random image that is adversarial, attack failed.\n",
            "WARNING:art.attacks.evasion.hop_skip_jump:Failed to draw a random image that is adversarial, attack failed.\n",
            "WARNING:art.attacks.evasion.hop_skip_jump:Failed to draw a random image that is adversarial, attack failed.\n",
            "WARNING:art.attacks.evasion.hop_skip_jump:Failed to draw a random image that is adversarial, attack failed.\n",
            "WARNING:art.attacks.evasion.hop_skip_jump:Failed to draw a random image that is adversarial, attack failed.\n",
            "WARNING:art.attacks.evasion.hop_skip_jump:Failed to draw a random image that is adversarial, attack failed.\n",
            "WARNING:art.attacks.evasion.hop_skip_jump:Failed to draw a random image that is adversarial, attack failed.\n",
            "WARNING:art.attacks.evasion.hop_skip_jump:Failed to draw a random image that is adversarial, attack failed.\n",
            "WARNING:art.attacks.evasion.hop_skip_jump:Failed to draw a random image that is adversarial, attack failed.\n",
            "WARNING:art.attacks.evasion.hop_skip_jump:Failed to draw a random image that is adversarial, attack failed.\n",
            "WARNING:art.attacks.evasion.hop_skip_jump:Failed to draw a random image that is adversarial, attack failed.\n",
            "WARNING:art.attacks.evasion.hop_skip_jump:Failed to draw a random image that is adversarial, attack failed.\n",
            "WARNING:art.attacks.evasion.hop_skip_jump:Failed to draw a random image that is adversarial, attack failed.\n",
            "WARNING:art.attacks.evasion.hop_skip_jump:Failed to draw a random image that is adversarial, attack failed.\n",
            "WARNING:art.attacks.evasion.hop_skip_jump:Failed to draw a random image that is adversarial, attack failed.\n",
            "WARNING:art.attacks.evasion.hop_skip_jump:Failed to draw a random image that is adversarial, attack failed.\n",
            "WARNING:art.attacks.evasion.hop_skip_jump:Failed to draw a random image that is adversarial, attack failed.\n",
            "WARNING:art.attacks.evasion.hop_skip_jump:Failed to draw a random image that is adversarial, attack failed.\n",
            "WARNING:art.attacks.evasion.hop_skip_jump:Failed to draw a random image that is adversarial, attack failed.\n",
            "WARNING:art.attacks.evasion.hop_skip_jump:Failed to draw a random image that is adversarial, attack failed.\n",
            "WARNING:art.attacks.evasion.hop_skip_jump:Failed to draw a random image that is adversarial, attack failed.\n",
            "WARNING:art.attacks.evasion.hop_skip_jump:Failed to draw a random image that is adversarial, attack failed.\n",
            "WARNING:art.attacks.evasion.hop_skip_jump:Failed to draw a random image that is adversarial, attack failed.\n",
            "WARNING:art.attacks.evasion.hop_skip_jump:Failed to draw a random image that is adversarial, attack failed.\n",
            "WARNING:art.attacks.evasion.hop_skip_jump:Failed to draw a random image that is adversarial, attack failed.\n",
            "WARNING:art.attacks.evasion.hop_skip_jump:Failed to draw a random image that is adversarial, attack failed.\n",
            "WARNING:art.attacks.evasion.hop_skip_jump:Failed to draw a random image that is adversarial, attack failed.\n",
            "WARNING:art.attacks.evasion.hop_skip_jump:Failed to draw a random image that is adversarial, attack failed.\n",
            "WARNING:art.attacks.evasion.hop_skip_jump:Failed to draw a random image that is adversarial, attack failed.\n",
            "WARNING:art.attacks.evasion.hop_skip_jump:Failed to draw a random image that is adversarial, attack failed.\n",
            "WARNING:art.attacks.evasion.hop_skip_jump:Failed to draw a random image that is adversarial, attack failed.\n",
            "WARNING:art.attacks.evasion.hop_skip_jump:Failed to draw a random image that is adversarial, attack failed.\n",
            "WARNING:art.attacks.evasion.hop_skip_jump:Failed to draw a random image that is adversarial, attack failed.\n",
            "WARNING:art.attacks.evasion.hop_skip_jump:Failed to draw a random image that is adversarial, attack failed.\n",
            "WARNING:art.attacks.evasion.hop_skip_jump:Failed to draw a random image that is adversarial, attack failed.\n",
            "WARNING:art.attacks.evasion.hop_skip_jump:Failed to draw a random image that is adversarial, attack failed.\n",
            "WARNING:art.attacks.evasion.hop_skip_jump:Failed to draw a random image that is adversarial, attack failed.\n",
            "WARNING:art.attacks.evasion.hop_skip_jump:Failed to draw a random image that is adversarial, attack failed.\n",
            "WARNING:art.attacks.evasion.hop_skip_jump:Failed to draw a random image that is adversarial, attack failed.\n",
            "WARNING:art.attacks.evasion.hop_skip_jump:Failed to draw a random image that is adversarial, attack failed.\n",
            "WARNING:art.attacks.evasion.hop_skip_jump:Failed to draw a random image that is adversarial, attack failed.\n",
            "WARNING:art.attacks.evasion.hop_skip_jump:Failed to draw a random image that is adversarial, attack failed.\n",
            "WARNING:art.attacks.evasion.hop_skip_jump:Failed to draw a random image that is adversarial, attack failed.\n",
            "WARNING:art.attacks.evasion.hop_skip_jump:Failed to draw a random image that is adversarial, attack failed.\n",
            "WARNING:art.attacks.evasion.hop_skip_jump:Failed to draw a random image that is adversarial, attack failed.\n",
            "WARNING:art.attacks.evasion.hop_skip_jump:Failed to draw a random image that is adversarial, attack failed.\n",
            "WARNING:art.attacks.evasion.hop_skip_jump:Failed to draw a random image that is adversarial, attack failed.\n",
            "WARNING:art.attacks.evasion.hop_skip_jump:Failed to draw a random image that is adversarial, attack failed.\n",
            "WARNING:art.attacks.evasion.hop_skip_jump:Failed to draw a random image that is adversarial, attack failed.\n",
            "WARNING:art.attacks.evasion.hop_skip_jump:Failed to draw a random image that is adversarial, attack failed.\n",
            "WARNING:art.attacks.evasion.hop_skip_jump:Failed to draw a random image that is adversarial, attack failed.\n",
            "WARNING:art.attacks.evasion.hop_skip_jump:Failed to draw a random image that is adversarial, attack failed.\n",
            "WARNING:art.attacks.evasion.hop_skip_jump:Failed to draw a random image that is adversarial, attack failed.\n",
            "WARNING:art.attacks.evasion.hop_skip_jump:Failed to draw a random image that is adversarial, attack failed.\n",
            "WARNING:art.attacks.evasion.hop_skip_jump:Failed to draw a random image that is adversarial, attack failed.\n",
            "WARNING:art.attacks.evasion.hop_skip_jump:Failed to draw a random image that is adversarial, attack failed.\n",
            "WARNING:art.attacks.evasion.hop_skip_jump:Failed to draw a random image that is adversarial, attack failed.\n",
            "WARNING:art.attacks.evasion.hop_skip_jump:Failed to draw a random image that is adversarial, attack failed.\n",
            "WARNING:art.attacks.evasion.hop_skip_jump:Failed to draw a random image that is adversarial, attack failed.\n",
            "WARNING:art.attacks.evasion.hop_skip_jump:Failed to draw a random image that is adversarial, attack failed.\n",
            "WARNING:art.attacks.evasion.hop_skip_jump:Failed to draw a random image that is adversarial, attack failed.\n",
            "WARNING:art.attacks.evasion.hop_skip_jump:Failed to draw a random image that is adversarial, attack failed.\n",
            "WARNING:art.attacks.evasion.hop_skip_jump:Failed to draw a random image that is adversarial, attack failed.\n",
            "WARNING:art.attacks.evasion.hop_skip_jump:Failed to draw a random image that is adversarial, attack failed.\n",
            "WARNING:art.attacks.evasion.hop_skip_jump:Failed to draw a random image that is adversarial, attack failed.\n",
            "WARNING:art.attacks.evasion.hop_skip_jump:Failed to draw a random image that is adversarial, attack failed.\n",
            "WARNING:art.attacks.evasion.hop_skip_jump:Failed to draw a random image that is adversarial, attack failed.\n",
            "WARNING:art.attacks.evasion.hop_skip_jump:Failed to draw a random image that is adversarial, attack failed.\n",
            "WARNING:art.attacks.evasion.hop_skip_jump:Failed to draw a random image that is adversarial, attack failed.\n",
            "WARNING:art.attacks.evasion.hop_skip_jump:Failed to draw a random image that is adversarial, attack failed.\n",
            "WARNING:art.attacks.evasion.hop_skip_jump:Failed to draw a random image that is adversarial, attack failed.\n",
            "WARNING:art.attacks.evasion.hop_skip_jump:Failed to draw a random image that is adversarial, attack failed.\n",
            "WARNING:art.attacks.evasion.hop_skip_jump:Failed to draw a random image that is adversarial, attack failed.\n",
            "WARNING:art.attacks.evasion.hop_skip_jump:Failed to draw a random image that is adversarial, attack failed.\n",
            "WARNING:art.attacks.evasion.hop_skip_jump:Failed to draw a random image that is adversarial, attack failed.\n"
          ]
        }
      ],
      "source": [
        "# Crear un clasificador ART a partir del modelo de TensorFlow\n",
        "classifier9 = TensorFlowV2Classifier(\n",
        "    model=model,\n",
        "    input_shape=len(np_X_test),\n",
        "    clip_values=(0, 1),\n",
        "    nb_classes=2,\n",
        "    loss_object=tf.keras.losses.CategoricalCrossentropy()\n",
        ")\n",
        "\n",
        "# Evaluar el modelo en los datos de prueba limpios\n",
        "predictions9 = np.argmax(classifier9.predict(np_X_test), axis=1)\n",
        "\n",
        "\n",
        "accuracy9 = np.sum(predictions8 == np.argmax(np_y_test)) / len(np_y_test)\n",
        "print(f\"Precisión en datos de prueba: {accuracy9 * 100:.2f}%\")\n",
        "\n",
        "attack9 = HopSkipJump(classifier=classifier9)\n",
        "x_test_adv9 = attack9.generate(x=np_X_test, y=array_zeros)\n",
        "df_x_test_adv9 = pd.DataFrame(x_test_adv9)\n"
      ]
    },
    {
      "cell_type": "code",
      "execution_count": null,
      "metadata": {
        "colab": {
          "base_uri": "https://localhost:8080/",
          "height": 485
        },
        "id": "7PteAJcvdwhG",
        "outputId": "2c2000c3-c7e3-4dda-c524-e3fab0a08236"
      },
      "outputs": [
        {
          "output_type": "stream",
          "name": "stdout",
          "text": [
            "\u001b[1m3/3\u001b[0m \u001b[32m━━━━━━━━━━━━━━━━━━━━\u001b[0m\u001b[37m\u001b[0m \u001b[1m0s\u001b[0m 10ms/step - acc: 0.5154 - loss: 4.1125\n"
          ]
        },
        {
          "output_type": "display_data",
          "data": {
            "text/plain": [
              "<Figure size 1000x500 with 1 Axes>"
            ],
            "image/png": "[encoded data removed]"
          },
          "metadata": {}
        }
      ],
      "source": [
        "\n",
        "\n",
        "# Evaluar el modelo y graficar la pérdida y precisión\n",
        "history_test9 = model.evaluate(x_test_adv9, array_zeros, verbose=True)\n",
        "\n",
        "# Graficar la pérdida y precisión\n",
        "plt.figure(figsize=(10, 5))\n",
        "plt.bar([\"Loss\", \"Accuracy\"], history_test9, color=[\"blue\", \"green\"])\n",
        "plt.title(\"Evaluación en datos de prueba 9\")\n",
        "plt.show()"
      ]
    },
    {
      "cell_type": "markdown",
      "metadata": {
        "id": "PuSHewMiAhHX"
      },
      "source": [
        "# Ataque 10 - SaliencyMapMethod"
      ]
    },
    {
      "cell_type": "code",
      "execution_count": null,
      "metadata": {
        "id": "E3R_f5hxAm4e"
      },
      "outputs": [],
      "source": [
        "from art.attacks.evasion import SaliencyMapMethod"
      ]
    },
    {
      "cell_type": "code",
      "execution_count": null,
      "metadata": {
        "colab": {
          "base_uri": "https://localhost:8080/",
          "height": 101,
          "referenced_widgets": [
            "71fd820edfbc4d808ec2b2c117d89b12",
            "7154b9d2ed754c3ba15007c3f2b572b8",
            "1c97c7af09494a2394ba93e5f3909aba",
            "c031b71f330d4b0385a2880664cabc4e",
            "1e5cdcecd2084165b92d9211470b772b",
            "e909a9438777429e8bd198882b43b122",
            "e3ffbb2587c74849a2a4cdffd4b99604",
            "e2baec0683b341e4ba75ff3e1b72f7ce",
            "ef0c61e3ecf14a5480c7e1effecac59d",
            "f8f78e511098490b9e9db3d4856ed170",
            "718b615e8a464b1b87dd221f672b0fa0"
          ]
        },
        "id": "9E7Q0TtfAwQP",
        "outputId": "8a4417a0-a9bb-4f15-ccdc-9487517b1910"
      },
      "outputs": [
        {
          "output_type": "stream",
          "name": "stdout",
          "text": [
            "Precisión en datos de prueba: 100.00%\n"
          ]
        },
        {
          "output_type": "stream",
          "name": "stderr",
          "text": [
            "<ipython-input-55-ab43397f2666>:18: DeprecationWarning: `product` is deprecated as of NumPy 1.25.0, and will be removed in NumPy 2.0. Please use `prod` instead.\n",
            "  x_test_adv10 = attack10.generate(x=np_X_test, y=array_zeros)\n"
          ]
        },
        {
          "output_type": "display_data",
          "data": {
            "text/plain": [
              "JSMA:   0%|          | 0/86 [00:00<?, ?it/s]"
            ],
            "application/vnd.jupyter.widget-view+json": {
              "version_major": 2,
              "version_minor": 0,
              "model_id": "71fd820edfbc4d808ec2b2c117d89b12"
            }
          },
          "metadata": {}
        }
      ],
      "source": [
        "# Crear un clasificador ART a partir del modelo de TensorFlow\n",
        "classifier10 = TensorFlowV2Classifier(\n",
        "    model=model,\n",
        "    input_shape=len(np_X_test),\n",
        "    clip_values=(0, 1),\n",
        "    nb_classes=2,\n",
        "    loss_object=tf.keras.losses.CategoricalCrossentropy()\n",
        ")\n",
        "\n",
        "# Evaluar el modelo en los datos de prueba limpios\n",
        "predictions10 = np.argmax(classifier10.predict(np_X_test), axis=1)\n",
        "\n",
        "\n",
        "accuracy10 = np.sum(predictions8 == np.argmax(np_y_test)) / len(np_y_test)\n",
        "print(f\"Precisión en datos de prueba: {accuracy10 * 100:.2f}%\")\n",
        "\n",
        "attack10 = SaliencyMapMethod(classifier=classifier10)\n",
        "x_test_adv10 = attack10.generate(x=np_X_test, y=array_zeros)\n",
        "df_x_test_adv10 = pd.DataFrame(x_test_adv10)\n"
      ]
    },
    {
      "cell_type": "code",
      "execution_count": null,
      "metadata": {
        "colab": {
          "base_uri": "https://localhost:8080/",
          "height": 485
        },
        "id": "qK_hQdPed0-g",
        "outputId": "6202aecb-c39d-4bf0-ce08-f76c90c1afa0"
      },
      "outputs": [
        {
          "output_type": "stream",
          "name": "stdout",
          "text": [
            "\u001b[1m3/3\u001b[0m \u001b[32m━━━━━━━━━━━━━━━━━━━━\u001b[0m\u001b[37m\u001b[0m \u001b[1m0s\u001b[0m 9ms/step - acc: 0.5154 - loss: 4.1125 \n"
          ]
        },
        {
          "output_type": "display_data",
          "data": {
            "text/plain": [
              "<Figure size 1000x500 with 1 Axes>"
            ],
            "image/png": "[encoded data removed]"
          },
          "metadata": {}
        }
      ],
      "source": [
        "\n",
        "\n",
        "# Evaluar el modelo y graficar la pérdida y precisión\n",
        "history_test10 = model.evaluate(x_test_adv10, array_zeros, verbose=True)\n",
        "\n",
        "# Graficar la pérdida y precisión\n",
        "plt.figure(figsize=(10, 5))\n",
        "plt.bar([\"Loss\", \"Accuracy\"], history_test10, color=[\"blue\", \"green\"])\n",
        "plt.title(\"Evaluación en datos de prueba 10\")\n",
        "plt.show()"
      ]
    },
    {
      "cell_type": "markdown",
      "source": [
        "# Modelo núm 2 - Error\n"
      ],
      "metadata": {
        "id": "dvfdBoUHMWG0"
      }
    },
    {
      "cell_type": "code",
      "source": [
        "# len(np_X_train)"
      ],
      "metadata": {
        "id": "voDDkRK4TGnf"
      },
      "execution_count": null,
      "outputs": []
    },
    {
      "cell_type": "code",
      "source": [
        "# model2 = tf.keras.models.Sequential([\n",
        "#   tf.keras.layers.Flatten(input_shape=(10138, 10138)),\n",
        "#   tf.keras.layers.Dense(342, activation='relu'),\n",
        "#   tf.keras.layers.Dense(188, activation='relu'),\n",
        "#   tf.keras.layers.Dense(58, activation='relu'),\n",
        "#   tf.keras.layers.Dropout(0.2),\n",
        "#   tf.keras.layers.Dense(2, activation='sigmoid')\n",
        "# ])\n",
        "# loss_fn = tf.keras.losses.SparseCategoricalCrossentropy(from_logits=True)\n",
        "# model2.compile(optimizer='adam',\n",
        "#               loss=loss_fn,\n",
        "#               metrics=['acc'])\n",
        "\n",
        "# hist2 = model2.fit(np_X_train, np_y_train, verbose=True, epochs=15)\n",
        "# plt.plot(hist2.history['acc'])\n",
        "# plt.plot(hist2.history['loss'])\n",
        "# plt.show()"
      ],
      "metadata": {
        "id": "2v8wp_C7MYaR"
      },
      "execution_count": null,
      "outputs": []
    },
    {
      "cell_type": "code",
      "source": [
        "# # Crear un clasificador ART a partir del modelo de TensorFlow\n",
        "# classifier2B = TensorFlowV2Classifier(\n",
        "#     model=model2,\n",
        "#     input_shape=(len(np_X_test),),\n",
        "#     clip_values=(0, 1),\n",
        "#     nb_classes=2,\n",
        "#     loss_object=tf.keras.losses.BinaryCrossentropy()\n",
        "# )\n",
        "\n",
        "# # Evaluar el modelo en los datos de prueba limpios\n",
        "# predictions2B = np.argmax(classifier2B.predict(np_X_test), axis=1)"
      ],
      "metadata": {
        "id": "_rRr8dM5Tj0i"
      },
      "execution_count": null,
      "outputs": []
    },
    {
      "cell_type": "code",
      "source": [
        "# accuracy2B = np.sum(predictions2B == np.argmax(np_y_test)) / len(np_y_test)\n",
        "# print(f\"Precisión en datos de prueba: {accuracy2B * 100:.2f}%\")\n",
        "\n",
        "# attack2B = FastGradientMethod(estimator=classifier2B, eps=0.95)\n",
        "# x_test_adv2B = attack2B.generate(x=np_X_test)\n"
      ],
      "metadata": {
        "id": "PTGJhBxsTtQT"
      },
      "execution_count": null,
      "outputs": []
    },
    {
      "cell_type": "markdown",
      "metadata": {
        "id": "Qz1qGHmRvevy"
      },
      "source": [
        "# Guardar en un archivo"
      ]
    },
    {
      "cell_type": "code",
      "source": [
        "print(type(dataset))"
      ],
      "metadata": {
        "colab": {
          "base_uri": "https://localhost:8080/"
        },
        "id": "YaiDo2tBPRx6",
        "outputId": "37bcf860-eb29-437b-cd99-ba290741d403"
      },
      "execution_count": null,
      "outputs": [
        {
          "output_type": "stream",
          "name": "stdout",
          "text": [
            "428\n"
          ]
        }
      ]
    },
    {
      "cell_type": "code",
      "execution_count": null,
      "metadata": {
        "colab": {
          "base_uri": "https://localhost:8080/"
        },
        "id": "-bZrSwQe6Nxk",
        "outputId": "d336624f-ed24-4277-ee07-2c73ede79c9e"
      },
      "outputs": [
        {
          "output_type": "stream",
          "name": "stdout",
          "text": [
            "10139\n"
          ]
        }
      ],
      "source": [
        "dataset.columns[-1]\n",
        "\n",
        "titulos_cols = dataset.columns.values.tolist()\n",
        "#titulos_cols = dataset.columns.values.tolist()\n",
        "\n",
        "print(len(titulos_cols))"
      ]
    },
    {
      "cell_type": "code",
      "execution_count": null,
      "metadata": {
        "id": "1QwZ0CRFk7pc"
      },
      "outputs": [],
      "source": [
        "\n",
        "\n",
        "df_x_test_adv = pd.DataFrame(x_test_adv)\n",
        "all_attacks = pd.concat([df_x_test_adv, df_x_test_adv2], ignore_index=True)\n",
        "\n",
        "all_attacks = pd.concat([all_attacks, df_x_test_adv3], ignore_index=True)\n",
        "all_attacks = pd.concat([all_attacks, df_x_test_adv4], ignore_index=True)\n",
        "all_attacks = pd.concat([all_attacks, df_x_test_adv5], ignore_index=True)\n",
        "\n",
        "all_attacks = pd.concat([all_attacks, df_x_test_adv6], ignore_index=True)\n",
        "all_attacks = pd.concat([all_attacks, df_x_test_adv7], ignore_index=True)\n",
        "all_attacks = pd.concat([all_attacks, df_x_test_adv8], ignore_index=True)\n",
        "all_attacks = pd.concat([all_attacks, df_x_test_adv9], ignore_index=True)\n",
        "all_attacks = pd.concat([all_attacks, df_x_test_adv10], ignore_index=True)\n",
        "# Guardar el DataFrame en un archivo CSV\n",
        "all_attacks.to_csv(\"adversarial_data.csv\", index=False, header=False)"
      ]
    },
    {
      "cell_type": "code",
      "execution_count": null,
      "metadata": {
        "colab": {
          "base_uri": "https://localhost:8080/",
          "height": 322
        },
        "id": "_ATUz4xjf3ed",
        "outputId": "c51e916e-2672-403a-d491-de117170b89b"
      },
      "outputs": [
        {
          "output_type": "error",
          "ename": "ValueError",
          "evalue": "Length mismatch: Expected axis has 10138 elements, new values have 10139 elements",
          "traceback": [
            "\u001b[0;31m---------------------------------------------------------------------------\u001b[0m",
            "\u001b[0;31mValueError\u001b[0m                                Traceback (most recent call last)",
            "\u001b[0;32m<ipython-input-64-dd30346eba64>\u001b[0m in \u001b[0;36m<cell line: 1>\u001b[0;34m()\u001b[0m\n\u001b[0;32m----> 1\u001b[0;31m \u001b[0mall_attacks\u001b[0m\u001b[0;34m.\u001b[0m\u001b[0mcolumns\u001b[0m \u001b[0;34m=\u001b[0m \u001b[0mtitulos_cols\u001b[0m\u001b[0;34m\u001b[0m\u001b[0;34m\u001b[0m\u001b[0m\n\u001b[0m",
            "\u001b[0;32m/usr/local/lib/python3.10/dist-packages/pandas/core/generic.py\u001b[0m in \u001b[0;36m__setattr__\u001b[0;34m(self, name, value)\u001b[0m\n\u001b[1;32m   6311\u001b[0m         \u001b[0;32mtry\u001b[0m\u001b[0;34m:\u001b[0m\u001b[0;34m\u001b[0m\u001b[0;34m\u001b[0m\u001b[0m\n\u001b[1;32m   6312\u001b[0m             \u001b[0mobject\u001b[0m\u001b[0;34m.\u001b[0m\u001b[0m__getattribute__\u001b[0m\u001b[0;34m(\u001b[0m\u001b[0mself\u001b[0m\u001b[0;34m,\u001b[0m \u001b[0mname\u001b[0m\u001b[0;34m)\u001b[0m\u001b[0;34m\u001b[0m\u001b[0;34m\u001b[0m\u001b[0m\n\u001b[0;32m-> 6313\u001b[0;31m             \u001b[0;32mreturn\u001b[0m \u001b[0mobject\u001b[0m\u001b[0;34m.\u001b[0m\u001b[0m__setattr__\u001b[0m\u001b[0;34m(\u001b[0m\u001b[0mself\u001b[0m\u001b[0;34m,\u001b[0m \u001b[0mname\u001b[0m\u001b[0;34m,\u001b[0m \u001b[0mvalue\u001b[0m\u001b[0;34m)\u001b[0m\u001b[0;34m\u001b[0m\u001b[0;34m\u001b[0m\u001b[0m\n\u001b[0m\u001b[1;32m   6314\u001b[0m         \u001b[0;32mexcept\u001b[0m \u001b[0mAttributeError\u001b[0m\u001b[0;34m:\u001b[0m\u001b[0;34m\u001b[0m\u001b[0;34m\u001b[0m\u001b[0m\n\u001b[1;32m   6315\u001b[0m             \u001b[0;32mpass\u001b[0m\u001b[0;34m\u001b[0m\u001b[0;34m\u001b[0m\u001b[0m\n",
            "\u001b[0;32mproperties.pyx\u001b[0m in \u001b[0;36mpandas._libs.properties.AxisProperty.__set__\u001b[0;34m()\u001b[0m\n",
            "\u001b[0;32m/usr/local/lib/python3.10/dist-packages/pandas/core/generic.py\u001b[0m in \u001b[0;36m_set_axis\u001b[0;34m(self, axis, labels)\u001b[0m\n\u001b[1;32m    812\u001b[0m         \"\"\"\n\u001b[1;32m    813\u001b[0m         \u001b[0mlabels\u001b[0m \u001b[0;34m=\u001b[0m \u001b[0mensure_index\u001b[0m\u001b[0;34m(\u001b[0m\u001b[0mlabels\u001b[0m\u001b[0;34m)\u001b[0m\u001b[0;34m\u001b[0m\u001b[0;34m\u001b[0m\u001b[0m\n\u001b[0;32m--> 814\u001b[0;31m         \u001b[0mself\u001b[0m\u001b[0;34m.\u001b[0m\u001b[0m_mgr\u001b[0m\u001b[0;34m.\u001b[0m\u001b[0mset_axis\u001b[0m\u001b[0;34m(\u001b[0m\u001b[0maxis\u001b[0m\u001b[0;34m,\u001b[0m \u001b[0mlabels\u001b[0m\u001b[0;34m)\u001b[0m\u001b[0;34m\u001b[0m\u001b[0;34m\u001b[0m\u001b[0m\n\u001b[0m\u001b[1;32m    815\u001b[0m         \u001b[0mself\u001b[0m\u001b[0;34m.\u001b[0m\u001b[0m_clear_item_cache\u001b[0m\u001b[0;34m(\u001b[0m\u001b[0;34m)\u001b[0m\u001b[0;34m\u001b[0m\u001b[0;34m\u001b[0m\u001b[0m\n\u001b[1;32m    816\u001b[0m \u001b[0;34m\u001b[0m\u001b[0m\n",
            "\u001b[0;32m/usr/local/lib/python3.10/dist-packages/pandas/core/internals/managers.py\u001b[0m in \u001b[0;36mset_axis\u001b[0;34m(self, axis, new_labels)\u001b[0m\n\u001b[1;32m    236\u001b[0m     \u001b[0;32mdef\u001b[0m \u001b[0mset_axis\u001b[0m\u001b[0;34m(\u001b[0m\u001b[0mself\u001b[0m\u001b[0;34m,\u001b[0m \u001b[0maxis\u001b[0m\u001b[0;34m:\u001b[0m \u001b[0mAxisInt\u001b[0m\u001b[0;34m,\u001b[0m \u001b[0mnew_labels\u001b[0m\u001b[0;34m:\u001b[0m \u001b[0mIndex\u001b[0m\u001b[0;34m)\u001b[0m \u001b[0;34m->\u001b[0m \u001b[0;32mNone\u001b[0m\u001b[0;34m:\u001b[0m\u001b[0;34m\u001b[0m\u001b[0;34m\u001b[0m\u001b[0m\n\u001b[1;32m    237\u001b[0m         \u001b[0;31m# Caller is responsible for ensuring we have an Index object.\u001b[0m\u001b[0;34m\u001b[0m\u001b[0;34m\u001b[0m\u001b[0m\n\u001b[0;32m--> 238\u001b[0;31m         \u001b[0mself\u001b[0m\u001b[0;34m.\u001b[0m\u001b[0m_validate_set_axis\u001b[0m\u001b[0;34m(\u001b[0m\u001b[0maxis\u001b[0m\u001b[0;34m,\u001b[0m \u001b[0mnew_labels\u001b[0m\u001b[0;34m)\u001b[0m\u001b[0;34m\u001b[0m\u001b[0;34m\u001b[0m\u001b[0m\n\u001b[0m\u001b[1;32m    239\u001b[0m         \u001b[0mself\u001b[0m\u001b[0;34m.\u001b[0m\u001b[0maxes\u001b[0m\u001b[0;34m[\u001b[0m\u001b[0maxis\u001b[0m\u001b[0;34m]\u001b[0m \u001b[0;34m=\u001b[0m \u001b[0mnew_labels\u001b[0m\u001b[0;34m\u001b[0m\u001b[0;34m\u001b[0m\u001b[0m\n\u001b[1;32m    240\u001b[0m \u001b[0;34m\u001b[0m\u001b[0m\n",
            "\u001b[0;32m/usr/local/lib/python3.10/dist-packages/pandas/core/internals/base.py\u001b[0m in \u001b[0;36m_validate_set_axis\u001b[0;34m(self, axis, new_labels)\u001b[0m\n\u001b[1;32m     96\u001b[0m \u001b[0;34m\u001b[0m\u001b[0m\n\u001b[1;32m     97\u001b[0m         \u001b[0;32melif\u001b[0m \u001b[0mnew_len\u001b[0m \u001b[0;34m!=\u001b[0m \u001b[0mold_len\u001b[0m\u001b[0;34m:\u001b[0m\u001b[0;34m\u001b[0m\u001b[0;34m\u001b[0m\u001b[0m\n\u001b[0;32m---> 98\u001b[0;31m             raise ValueError(\n\u001b[0m\u001b[1;32m     99\u001b[0m                 \u001b[0;34mf\"Length mismatch: Expected axis has {old_len} elements, new \"\u001b[0m\u001b[0;34m\u001b[0m\u001b[0;34m\u001b[0m\u001b[0m\n\u001b[1;32m    100\u001b[0m                 \u001b[0;34mf\"values have {new_len} elements\"\u001b[0m\u001b[0;34m\u001b[0m\u001b[0;34m\u001b[0m\u001b[0m\n",
            "\u001b[0;31mValueError\u001b[0m: Length mismatch: Expected axis has 10138 elements, new values have 10139 elements"
          ]
        }
      ],
      "source": [
        "all_attacks.columns = titulos_cols"
      ]
    },
    {
      "cell_type": "code",
      "execution_count": null,
      "metadata": {
        "id": "Ho3VamotmEak"
      },
      "outputs": [],
      "source": [
        "print(len(all_attacks))"
      ]
    },
    {
      "cell_type": "code",
      "execution_count": null,
      "metadata": {
        "id": "LKXLABLgwgha"
      },
      "outputs": [],
      "source": []
    }
  ],
  "metadata": {
    "colab": {
      "toc_visible": true,
      "provenance": []
    },
    "kernelspec": {
      "display_name": "Python 3",
      "name": "python3"
    },
    "language_info": {
      "name": "python"
    },
    "widgets": {
      "application/vnd.jupyter.widget-state+json": {
        "aadeda79a00448e89e10bbb1bf527fd5": {
          "model_module": "@jupyter-widgets/controls",
          "model_name": "HBoxModel",
          "model_module_version": "1.5.0",
          "state": {
            "_dom_classes": [],
            "_model_module": "@jupyter-widgets/controls",
            "_model_module_version": "1.5.0",
            "_model_name": "HBoxModel",
            "_view_count": null,
            "_view_module": "@jupyter-widgets/controls",
            "_view_module_version": "1.5.0",
            "_view_name": "HBoxView",
            "box_style": "",
            "children": [
              "IPY_MODEL_10f20623b248468893154b4f3926d03a",
              "IPY_MODEL_a2a586bfc86d4839b3034e4012ccefe5",
              "IPY_MODEL_2e15a133b14d40ba8657f384c02f7ad2"
            ],
            "layout": "IPY_MODEL_5055db86c0ab43328ee1f11e011f9c05"
          }
        },
        "10f20623b248468893154b4f3926d03a": {
          "model_module": "@jupyter-widgets/controls",
          "model_name": "HTMLModel",
          "model_module_version": "1.5.0",
          "state": {
            "_dom_classes": [],
            "_model_module": "@jupyter-widgets/controls",
            "_model_module_version": "1.5.0",
            "_model_name": "HTMLModel",
            "_view_count": null,
            "_view_module": "@jupyter-widgets/controls",
            "_view_module_version": "1.5.0",
            "_view_name": "HTMLView",
            "description": "",
            "description_tooltip": null,
            "layout": "IPY_MODEL_5c91902fd6fc45368106cef67d78e8f3",
            "placeholder": "​",
            "style": "IPY_MODEL_06e4b49691eb42d287b6df5bdc7aad3f",
            "value": "PGD - Batches: "
          }
        },
        "a2a586bfc86d4839b3034e4012ccefe5": {
          "model_module": "@jupyter-widgets/controls",
          "model_name": "FloatProgressModel",
          "model_module_version": "1.5.0",
          "state": {
            "_dom_classes": [],
            "_model_module": "@jupyter-widgets/controls",
            "_model_module_version": "1.5.0",
            "_model_name": "FloatProgressModel",
            "_view_count": null,
            "_view_module": "@jupyter-widgets/controls",
            "_view_module_version": "1.5.0",
            "_view_name": "ProgressView",
            "bar_style": "info",
            "description": "",
            "description_tooltip": null,
            "layout": "IPY_MODEL_a71bf6918fc34c4c8c2ba471cae3de7e",
            "max": 1,
            "min": 0,
            "orientation": "horizontal",
            "style": "IPY_MODEL_24c4aa5ff78241589f47bbdfe176406a",
            "value": 1
          }
        },
        "2e15a133b14d40ba8657f384c02f7ad2": {
          "model_module": "@jupyter-widgets/controls",
          "model_name": "HTMLModel",
          "model_module_version": "1.5.0",
          "state": {
            "_dom_classes": [],
            "_model_module": "@jupyter-widgets/controls",
            "_model_module_version": "1.5.0",
            "_model_name": "HTMLModel",
            "_view_count": null,
            "_view_module": "@jupyter-widgets/controls",
            "_view_module_version": "1.5.0",
            "_view_name": "HTMLView",
            "description": "",
            "description_tooltip": null,
            "layout": "IPY_MODEL_a65c9b87bfb340e18c9811e0a3f91323",
            "placeholder": "​",
            "style": "IPY_MODEL_a7e85c01af384f50b57b451dbdea3616",
            "value": " 3/? [00:15&lt;00:00,  5.02s/it]"
          }
        },
        "5055db86c0ab43328ee1f11e011f9c05": {
          "model_module": "@jupyter-widgets/base",
          "model_name": "LayoutModel",
          "model_module_version": "1.2.0",
          "state": {
            "_model_module": "@jupyter-widgets/base",
            "_model_module_version": "1.2.0",
            "_model_name": "LayoutModel",
            "_view_count": null,
            "_view_module": "@jupyter-widgets/base",
            "_view_module_version": "1.2.0",
            "_view_name": "LayoutView",
            "align_content": null,
            "align_items": null,
            "align_self": null,
            "border": null,
            "bottom": null,
            "display": null,
            "flex": null,
            "flex_flow": null,
            "grid_area": null,
            "grid_auto_columns": null,
            "grid_auto_flow": null,
            "grid_auto_rows": null,
            "grid_column": null,
            "grid_gap": null,
            "grid_row": null,
            "grid_template_areas": null,
            "grid_template_columns": null,
            "grid_template_rows": null,
            "height": null,
            "justify_content": null,
            "justify_items": null,
            "left": null,
            "margin": null,
            "max_height": null,
            "max_width": null,
            "min_height": null,
            "min_width": null,
            "object_fit": null,
            "object_position": null,
            "order": null,
            "overflow": null,
            "overflow_x": null,
            "overflow_y": null,
            "padding": null,
            "right": null,
            "top": null,
            "visibility": "hidden",
            "width": null
          }
        },
        "5c91902fd6fc45368106cef67d78e8f3": {
          "model_module": "@jupyter-widgets/base",
          "model_name": "LayoutModel",
          "model_module_version": "1.2.0",
          "state": {
            "_model_module": "@jupyter-widgets/base",
            "_model_module_version": "1.2.0",
            "_model_name": "LayoutModel",
            "_view_count": null,
            "_view_module": "@jupyter-widgets/base",
            "_view_module_version": "1.2.0",
            "_view_name": "LayoutView",
            "align_content": null,
            "align_items": null,
            "align_self": null,
            "border": null,
            "bottom": null,
            "display": null,
            "flex": null,
            "flex_flow": null,
            "grid_area": null,
            "grid_auto_columns": null,
            "grid_auto_flow": null,
            "grid_auto_rows": null,
            "grid_column": null,
            "grid_gap": null,
            "grid_row": null,
            "grid_template_areas": null,
            "grid_template_columns": null,
            "grid_template_rows": null,
            "height": null,
            "justify_content": null,
            "justify_items": null,
            "left": null,
            "margin": null,
            "max_height": null,
            "max_width": null,
            "min_height": null,
            "min_width": null,
            "object_fit": null,
            "object_position": null,
            "order": null,
            "overflow": null,
            "overflow_x": null,
            "overflow_y": null,
            "padding": null,
            "right": null,
            "top": null,
            "visibility": null,
            "width": null
          }
        },
        "06e4b49691eb42d287b6df5bdc7aad3f": {
          "model_module": "@jupyter-widgets/controls",
          "model_name": "DescriptionStyleModel",
          "model_module_version": "1.5.0",
          "state": {
            "_model_module": "@jupyter-widgets/controls",
            "_model_module_version": "1.5.0",
            "_model_name": "DescriptionStyleModel",
            "_view_count": null,
            "_view_module": "@jupyter-widgets/base",
            "_view_module_version": "1.2.0",
            "_view_name": "StyleView",
            "description_width": ""
          }
        },
        "a71bf6918fc34c4c8c2ba471cae3de7e": {
          "model_module": "@jupyter-widgets/base",
          "model_name": "LayoutModel",
          "model_module_version": "1.2.0",
          "state": {
            "_model_module": "@jupyter-widgets/base",
            "_model_module_version": "1.2.0",
            "_model_name": "LayoutModel",
            "_view_count": null,
            "_view_module": "@jupyter-widgets/base",
            "_view_module_version": "1.2.0",
            "_view_name": "LayoutView",
            "align_content": null,
            "align_items": null,
            "align_self": null,
            "border": null,
            "bottom": null,
            "display": null,
            "flex": null,
            "flex_flow": null,
            "grid_area": null,
            "grid_auto_columns": null,
            "grid_auto_flow": null,
            "grid_auto_rows": null,
            "grid_column": null,
            "grid_gap": null,
            "grid_row": null,
            "grid_template_areas": null,
            "grid_template_columns": null,
            "grid_template_rows": null,
            "height": null,
            "justify_content": null,
            "justify_items": null,
            "left": null,
            "margin": null,
            "max_height": null,
            "max_width": null,
            "min_height": null,
            "min_width": null,
            "object_fit": null,
            "object_position": null,
            "order": null,
            "overflow": null,
            "overflow_x": null,
            "overflow_y": null,
            "padding": null,
            "right": null,
            "top": null,
            "visibility": null,
            "width": "20px"
          }
        },
        "24c4aa5ff78241589f47bbdfe176406a": {
          "model_module": "@jupyter-widgets/controls",
          "model_name": "ProgressStyleModel",
          "model_module_version": "1.5.0",
          "state": {
            "_model_module": "@jupyter-widgets/controls",
            "_model_module_version": "1.5.0",
            "_model_name": "ProgressStyleModel",
            "_view_count": null,
            "_view_module": "@jupyter-widgets/base",
            "_view_module_version": "1.2.0",
            "_view_name": "StyleView",
            "bar_color": null,
            "description_width": ""
          }
        },
        "a65c9b87bfb340e18c9811e0a3f91323": {
          "model_module": "@jupyter-widgets/base",
          "model_name": "LayoutModel",
          "model_module_version": "1.2.0",
          "state": {
            "_model_module": "@jupyter-widgets/base",
            "_model_module_version": "1.2.0",
            "_model_name": "LayoutModel",
            "_view_count": null,
            "_view_module": "@jupyter-widgets/base",
            "_view_module_version": "1.2.0",
            "_view_name": "LayoutView",
            "align_content": null,
            "align_items": null,
            "align_self": null,
            "border": null,
            "bottom": null,
            "display": null,
            "flex": null,
            "flex_flow": null,
            "grid_area": null,
            "grid_auto_columns": null,
            "grid_auto_flow": null,
            "grid_auto_rows": null,
            "grid_column": null,
            "grid_gap": null,
            "grid_row": null,
            "grid_template_areas": null,
            "grid_template_columns": null,
            "grid_template_rows": null,
            "height": null,
            "justify_content": null,
            "justify_items": null,
            "left": null,
            "margin": null,
            "max_height": null,
            "max_width": null,
            "min_height": null,
            "min_width": null,
            "object_fit": null,
            "object_position": null,
            "order": null,
            "overflow": null,
            "overflow_x": null,
            "overflow_y": null,
            "padding": null,
            "right": null,
            "top": null,
            "visibility": null,
            "width": null
          }
        },
        "a7e85c01af384f50b57b451dbdea3616": {
          "model_module": "@jupyter-widgets/controls",
          "model_name": "DescriptionStyleModel",
          "model_module_version": "1.5.0",
          "state": {
            "_model_module": "@jupyter-widgets/controls",
            "_model_module_version": "1.5.0",
            "_model_name": "DescriptionStyleModel",
            "_view_count": null,
            "_view_module": "@jupyter-widgets/base",
            "_view_module_version": "1.2.0",
            "_view_name": "StyleView",
            "description_width": ""
          }
        },
        "9f83f9cd2afa4df59a641ba7059e8c5b": {
          "model_module": "@jupyter-widgets/controls",
          "model_name": "HBoxModel",
          "model_module_version": "1.5.0",
          "state": {
            "_dom_classes": [],
            "_model_module": "@jupyter-widgets/controls",
            "_model_module_version": "1.5.0",
            "_model_name": "HBoxModel",
            "_view_count": null,
            "_view_module": "@jupyter-widgets/controls",
            "_view_module_version": "1.5.0",
            "_view_name": "HBoxView",
            "box_style": "",
            "children": [
              "IPY_MODEL_7dc818e188c44f2c8e4d3d4f82667a05",
              "IPY_MODEL_b255b93e74fc477e8984d9ffb9472576",
              "IPY_MODEL_69aa5fa166ba4b399a6d83546ee2feb2"
            ],
            "layout": "IPY_MODEL_98ac9478353347efbc8037f775ffdb6c"
          }
        },
        "7dc818e188c44f2c8e4d3d4f82667a05": {
          "model_module": "@jupyter-widgets/controls",
          "model_name": "HTMLModel",
          "model_module_version": "1.5.0",
          "state": {
            "_dom_classes": [],
            "_model_module": "@jupyter-widgets/controls",
            "_model_module_version": "1.5.0",
            "_model_name": "HTMLModel",
            "_view_count": null,
            "_view_module": "@jupyter-widgets/controls",
            "_view_module_version": "1.5.0",
            "_view_name": "HTMLView",
            "description": "",
            "description_tooltip": null,
            "layout": "IPY_MODEL_32d2c54426904b4f8644ef07a5ce04dc",
            "placeholder": "​",
            "style": "IPY_MODEL_2aa34bc3584e44968d80d77fd87d9277",
            "value": "PGD - Batches: "
          }
        },
        "b255b93e74fc477e8984d9ffb9472576": {
          "model_module": "@jupyter-widgets/controls",
          "model_name": "FloatProgressModel",
          "model_module_version": "1.5.0",
          "state": {
            "_dom_classes": [],
            "_model_module": "@jupyter-widgets/controls",
            "_model_module_version": "1.5.0",
            "_model_name": "FloatProgressModel",
            "_view_count": null,
            "_view_module": "@jupyter-widgets/controls",
            "_view_module_version": "1.5.0",
            "_view_name": "ProgressView",
            "bar_style": "info",
            "description": "",
            "description_tooltip": null,
            "layout": "IPY_MODEL_3cd05a829e6246e59f5bb852fb2fb767",
            "max": 1,
            "min": 0,
            "orientation": "horizontal",
            "style": "IPY_MODEL_0aaa5ac816434bcb8a821e37ef029b2a",
            "value": 1
          }
        },
        "69aa5fa166ba4b399a6d83546ee2feb2": {
          "model_module": "@jupyter-widgets/controls",
          "model_name": "HTMLModel",
          "model_module_version": "1.5.0",
          "state": {
            "_dom_classes": [],
            "_model_module": "@jupyter-widgets/controls",
            "_model_module_version": "1.5.0",
            "_model_name": "HTMLModel",
            "_view_count": null,
            "_view_module": "@jupyter-widgets/controls",
            "_view_module_version": "1.5.0",
            "_view_name": "HTMLView",
            "description": "",
            "description_tooltip": null,
            "layout": "IPY_MODEL_80a9154e922f4548ac94ac28e1d0f817",
            "placeholder": "​",
            "style": "IPY_MODEL_aa04b634b4ba4d6c8780ba131e7846c8",
            "value": " 3/? [00:15&lt;00:00,  4.99s/it]"
          }
        },
        "98ac9478353347efbc8037f775ffdb6c": {
          "model_module": "@jupyter-widgets/base",
          "model_name": "LayoutModel",
          "model_module_version": "1.2.0",
          "state": {
            "_model_module": "@jupyter-widgets/base",
            "_model_module_version": "1.2.0",
            "_model_name": "LayoutModel",
            "_view_count": null,
            "_view_module": "@jupyter-widgets/base",
            "_view_module_version": "1.2.0",
            "_view_name": "LayoutView",
            "align_content": null,
            "align_items": null,
            "align_self": null,
            "border": null,
            "bottom": null,
            "display": null,
            "flex": null,
            "flex_flow": null,
            "grid_area": null,
            "grid_auto_columns": null,
            "grid_auto_flow": null,
            "grid_auto_rows": null,
            "grid_column": null,
            "grid_gap": null,
            "grid_row": null,
            "grid_template_areas": null,
            "grid_template_columns": null,
            "grid_template_rows": null,
            "height": null,
            "justify_content": null,
            "justify_items": null,
            "left": null,
            "margin": null,
            "max_height": null,
            "max_width": null,
            "min_height": null,
            "min_width": null,
            "object_fit": null,
            "object_position": null,
            "order": null,
            "overflow": null,
            "overflow_x": null,
            "overflow_y": null,
            "padding": null,
            "right": null,
            "top": null,
            "visibility": "hidden",
            "width": null
          }
        },
        "32d2c54426904b4f8644ef07a5ce04dc": {
          "model_module": "@jupyter-widgets/base",
          "model_name": "LayoutModel",
          "model_module_version": "1.2.0",
          "state": {
            "_model_module": "@jupyter-widgets/base",
            "_model_module_version": "1.2.0",
            "_model_name": "LayoutModel",
            "_view_count": null,
            "_view_module": "@jupyter-widgets/base",
            "_view_module_version": "1.2.0",
            "_view_name": "LayoutView",
            "align_content": null,
            "align_items": null,
            "align_self": null,
            "border": null,
            "bottom": null,
            "display": null,
            "flex": null,
            "flex_flow": null,
            "grid_area": null,
            "grid_auto_columns": null,
            "grid_auto_flow": null,
            "grid_auto_rows": null,
            "grid_column": null,
            "grid_gap": null,
            "grid_row": null,
            "grid_template_areas": null,
            "grid_template_columns": null,
            "grid_template_rows": null,
            "height": null,
            "justify_content": null,
            "justify_items": null,
            "left": null,
            "margin": null,
            "max_height": null,
            "max_width": null,
            "min_height": null,
            "min_width": null,
            "object_fit": null,
            "object_position": null,
            "order": null,
            "overflow": null,
            "overflow_x": null,
            "overflow_y": null,
            "padding": null,
            "right": null,
            "top": null,
            "visibility": null,
            "width": null
          }
        },
        "2aa34bc3584e44968d80d77fd87d9277": {
          "model_module": "@jupyter-widgets/controls",
          "model_name": "DescriptionStyleModel",
          "model_module_version": "1.5.0",
          "state": {
            "_model_module": "@jupyter-widgets/controls",
            "_model_module_version": "1.5.0",
            "_model_name": "DescriptionStyleModel",
            "_view_count": null,
            "_view_module": "@jupyter-widgets/base",
            "_view_module_version": "1.2.0",
            "_view_name": "StyleView",
            "description_width": ""
          }
        },
        "3cd05a829e6246e59f5bb852fb2fb767": {
          "model_module": "@jupyter-widgets/base",
          "model_name": "LayoutModel",
          "model_module_version": "1.2.0",
          "state": {
            "_model_module": "@jupyter-widgets/base",
            "_model_module_version": "1.2.0",
            "_model_name": "LayoutModel",
            "_view_count": null,
            "_view_module": "@jupyter-widgets/base",
            "_view_module_version": "1.2.0",
            "_view_name": "LayoutView",
            "align_content": null,
            "align_items": null,
            "align_self": null,
            "border": null,
            "bottom": null,
            "display": null,
            "flex": null,
            "flex_flow": null,
            "grid_area": null,
            "grid_auto_columns": null,
            "grid_auto_flow": null,
            "grid_auto_rows": null,
            "grid_column": null,
            "grid_gap": null,
            "grid_row": null,
            "grid_template_areas": null,
            "grid_template_columns": null,
            "grid_template_rows": null,
            "height": null,
            "justify_content": null,
            "justify_items": null,
            "left": null,
            "margin": null,
            "max_height": null,
            "max_width": null,
            "min_height": null,
            "min_width": null,
            "object_fit": null,
            "object_position": null,
            "order": null,
            "overflow": null,
            "overflow_x": null,
            "overflow_y": null,
            "padding": null,
            "right": null,
            "top": null,
            "visibility": null,
            "width": "20px"
          }
        },
        "0aaa5ac816434bcb8a821e37ef029b2a": {
          "model_module": "@jupyter-widgets/controls",
          "model_name": "ProgressStyleModel",
          "model_module_version": "1.5.0",
          "state": {
            "_model_module": "@jupyter-widgets/controls",
            "_model_module_version": "1.5.0",
            "_model_name": "ProgressStyleModel",
            "_view_count": null,
            "_view_module": "@jupyter-widgets/base",
            "_view_module_version": "1.2.0",
            "_view_name": "StyleView",
            "bar_color": null,
            "description_width": ""
          }
        },
        "80a9154e922f4548ac94ac28e1d0f817": {
          "model_module": "@jupyter-widgets/base",
          "model_name": "LayoutModel",
          "model_module_version": "1.2.0",
          "state": {
            "_model_module": "@jupyter-widgets/base",
            "_model_module_version": "1.2.0",
            "_model_name": "LayoutModel",
            "_view_count": null,
            "_view_module": "@jupyter-widgets/base",
            "_view_module_version": "1.2.0",
            "_view_name": "LayoutView",
            "align_content": null,
            "align_items": null,
            "align_self": null,
            "border": null,
            "bottom": null,
            "display": null,
            "flex": null,
            "flex_flow": null,
            "grid_area": null,
            "grid_auto_columns": null,
            "grid_auto_flow": null,
            "grid_auto_rows": null,
            "grid_column": null,
            "grid_gap": null,
            "grid_row": null,
            "grid_template_areas": null,
            "grid_template_columns": null,
            "grid_template_rows": null,
            "height": null,
            "justify_content": null,
            "justify_items": null,
            "left": null,
            "margin": null,
            "max_height": null,
            "max_width": null,
            "min_height": null,
            "min_width": null,
            "object_fit": null,
            "object_position": null,
            "order": null,
            "overflow": null,
            "overflow_x": null,
            "overflow_y": null,
            "padding": null,
            "right": null,
            "top": null,
            "visibility": null,
            "width": null
          }
        },
        "aa04b634b4ba4d6c8780ba131e7846c8": {
          "model_module": "@jupyter-widgets/controls",
          "model_name": "DescriptionStyleModel",
          "model_module_version": "1.5.0",
          "state": {
            "_model_module": "@jupyter-widgets/controls",
            "_model_module_version": "1.5.0",
            "_model_name": "DescriptionStyleModel",
            "_view_count": null,
            "_view_module": "@jupyter-widgets/base",
            "_view_module_version": "1.2.0",
            "_view_name": "StyleView",
            "description_width": ""
          }
        },
        "6575a75d7acb41e9a8315671ba08c2fe": {
          "model_module": "@jupyter-widgets/controls",
          "model_name": "HBoxModel",
          "model_module_version": "1.5.0",
          "state": {
            "_dom_classes": [],
            "_model_module": "@jupyter-widgets/controls",
            "_model_module_version": "1.5.0",
            "_model_name": "HBoxModel",
            "_view_count": null,
            "_view_module": "@jupyter-widgets/controls",
            "_view_module_version": "1.5.0",
            "_view_name": "HBoxView",
            "box_style": "",
            "children": [
              "IPY_MODEL_2af45fcf4e3e491394a1ba8bfeb72495",
              "IPY_MODEL_42ed803e8ed7405f9e9619d1eacc15a1",
              "IPY_MODEL_68a1df8bfa01417f8fd1e7efcad55018"
            ],
            "layout": "IPY_MODEL_3492d5adb1cc49e3aa158fd52406ba31"
          }
        },
        "2af45fcf4e3e491394a1ba8bfeb72495": {
          "model_module": "@jupyter-widgets/controls",
          "model_name": "HTMLModel",
          "model_module_version": "1.5.0",
          "state": {
            "_dom_classes": [],
            "_model_module": "@jupyter-widgets/controls",
            "_model_module_version": "1.5.0",
            "_model_name": "HTMLModel",
            "_view_count": null,
            "_view_module": "@jupyter-widgets/controls",
            "_view_module_version": "1.5.0",
            "_view_name": "HTMLView",
            "description": "",
            "description_tooltip": null,
            "layout": "IPY_MODEL_98357b3b1b424fd3bfa69218753eb75e",
            "placeholder": "​",
            "style": "IPY_MODEL_49974dd06ef848ccb049fc748a0ffbe5",
            "value": "ZOO: 100%"
          }
        },
        "42ed803e8ed7405f9e9619d1eacc15a1": {
          "model_module": "@jupyter-widgets/controls",
          "model_name": "FloatProgressModel",
          "model_module_version": "1.5.0",
          "state": {
            "_dom_classes": [],
            "_model_module": "@jupyter-widgets/controls",
            "_model_module_version": "1.5.0",
            "_model_name": "FloatProgressModel",
            "_view_count": null,
            "_view_module": "@jupyter-widgets/controls",
            "_view_module_version": "1.5.0",
            "_view_name": "ProgressView",
            "bar_style": "success",
            "description": "",
            "description_tooltip": null,
            "layout": "IPY_MODEL_266938d3ab4f473190a2d051526c7e12",
            "max": 86,
            "min": 0,
            "orientation": "horizontal",
            "style": "IPY_MODEL_942d95c667984d1582e9de461b88af0c",
            "value": 86
          }
        },
        "68a1df8bfa01417f8fd1e7efcad55018": {
          "model_module": "@jupyter-widgets/controls",
          "model_name": "HTMLModel",
          "model_module_version": "1.5.0",
          "state": {
            "_dom_classes": [],
            "_model_module": "@jupyter-widgets/controls",
            "_model_module_version": "1.5.0",
            "_model_name": "HTMLModel",
            "_view_count": null,
            "_view_module": "@jupyter-widgets/controls",
            "_view_module_version": "1.5.0",
            "_view_name": "HTMLView",
            "description": "",
            "description_tooltip": null,
            "layout": "IPY_MODEL_ed6549b0f44b4ca9865b310a2e4f1aba",
            "placeholder": "​",
            "style": "IPY_MODEL_747249a1dd524d3fa688eaace36111b0",
            "value": " 86/86 [35:41&lt;00:00, 25.80s/it]"
          }
        },
        "3492d5adb1cc49e3aa158fd52406ba31": {
          "model_module": "@jupyter-widgets/base",
          "model_name": "LayoutModel",
          "model_module_version": "1.2.0",
          "state": {
            "_model_module": "@jupyter-widgets/base",
            "_model_module_version": "1.2.0",
            "_model_name": "LayoutModel",
            "_view_count": null,
            "_view_module": "@jupyter-widgets/base",
            "_view_module_version": "1.2.0",
            "_view_name": "LayoutView",
            "align_content": null,
            "align_items": null,
            "align_self": null,
            "border": null,
            "bottom": null,
            "display": null,
            "flex": null,
            "flex_flow": null,
            "grid_area": null,
            "grid_auto_columns": null,
            "grid_auto_flow": null,
            "grid_auto_rows": null,
            "grid_column": null,
            "grid_gap": null,
            "grid_row": null,
            "grid_template_areas": null,
            "grid_template_columns": null,
            "grid_template_rows": null,
            "height": null,
            "justify_content": null,
            "justify_items": null,
            "left": null,
            "margin": null,
            "max_height": null,
            "max_width": null,
            "min_height": null,
            "min_width": null,
            "object_fit": null,
            "object_position": null,
            "order": null,
            "overflow": null,
            "overflow_x": null,
            "overflow_y": null,
            "padding": null,
            "right": null,
            "top": null,
            "visibility": null,
            "width": null
          }
        },
        "98357b3b1b424fd3bfa69218753eb75e": {
          "model_module": "@jupyter-widgets/base",
          "model_name": "LayoutModel",
          "model_module_version": "1.2.0",
          "state": {
            "_model_module": "@jupyter-widgets/base",
            "_model_module_version": "1.2.0",
            "_model_name": "LayoutModel",
            "_view_count": null,
            "_view_module": "@jupyter-widgets/base",
            "_view_module_version": "1.2.0",
            "_view_name": "LayoutView",
            "align_content": null,
            "align_items": null,
            "align_self": null,
            "border": null,
            "bottom": null,
            "display": null,
            "flex": null,
            "flex_flow": null,
            "grid_area": null,
            "grid_auto_columns": null,
            "grid_auto_flow": null,
            "grid_auto_rows": null,
            "grid_column": null,
            "grid_gap": null,
            "grid_row": null,
            "grid_template_areas": null,
            "grid_template_columns": null,
            "grid_template_rows": null,
            "height": null,
            "justify_content": null,
            "justify_items": null,
            "left": null,
            "margin": null,
            "max_height": null,
            "max_width": null,
            "min_height": null,
            "min_width": null,
            "object_fit": null,
            "object_position": null,
            "order": null,
            "overflow": null,
            "overflow_x": null,
            "overflow_y": null,
            "padding": null,
            "right": null,
            "top": null,
            "visibility": null,
            "width": null
          }
        },
        "49974dd06ef848ccb049fc748a0ffbe5": {
          "model_module": "@jupyter-widgets/controls",
          "model_name": "DescriptionStyleModel",
          "model_module_version": "1.5.0",
          "state": {
            "_model_module": "@jupyter-widgets/controls",
            "_model_module_version": "1.5.0",
            "_model_name": "DescriptionStyleModel",
            "_view_count": null,
            "_view_module": "@jupyter-widgets/base",
            "_view_module_version": "1.2.0",
            "_view_name": "StyleView",
            "description_width": ""
          }
        },
        "266938d3ab4f473190a2d051526c7e12": {
          "model_module": "@jupyter-widgets/base",
          "model_name": "LayoutModel",
          "model_module_version": "1.2.0",
          "state": {
            "_model_module": "@jupyter-widgets/base",
            "_model_module_version": "1.2.0",
            "_model_name": "LayoutModel",
            "_view_count": null,
            "_view_module": "@jupyter-widgets/base",
            "_view_module_version": "1.2.0",
            "_view_name": "LayoutView",
            "align_content": null,
            "align_items": null,
            "align_self": null,
            "border": null,
            "bottom": null,
            "display": null,
            "flex": null,
            "flex_flow": null,
            "grid_area": null,
            "grid_auto_columns": null,
            "grid_auto_flow": null,
            "grid_auto_rows": null,
            "grid_column": null,
            "grid_gap": null,
            "grid_row": null,
            "grid_template_areas": null,
            "grid_template_columns": null,
            "grid_template_rows": null,
            "height": null,
            "justify_content": null,
            "justify_items": null,
            "left": null,
            "margin": null,
            "max_height": null,
            "max_width": null,
            "min_height": null,
            "min_width": null,
            "object_fit": null,
            "object_position": null,
            "order": null,
            "overflow": null,
            "overflow_x": null,
            "overflow_y": null,
            "padding": null,
            "right": null,
            "top": null,
            "visibility": null,
            "width": null
          }
        },
        "942d95c667984d1582e9de461b88af0c": {
          "model_module": "@jupyter-widgets/controls",
          "model_name": "ProgressStyleModel",
          "model_module_version": "1.5.0",
          "state": {
            "_model_module": "@jupyter-widgets/controls",
            "_model_module_version": "1.5.0",
            "_model_name": "ProgressStyleModel",
            "_view_count": null,
            "_view_module": "@jupyter-widgets/base",
            "_view_module_version": "1.2.0",
            "_view_name": "StyleView",
            "bar_color": null,
            "description_width": ""
          }
        },
        "ed6549b0f44b4ca9865b310a2e4f1aba": {
          "model_module": "@jupyter-widgets/base",
          "model_name": "LayoutModel",
          "model_module_version": "1.2.0",
          "state": {
            "_model_module": "@jupyter-widgets/base",
            "_model_module_version": "1.2.0",
            "_model_name": "LayoutModel",
            "_view_count": null,
            "_view_module": "@jupyter-widgets/base",
            "_view_module_version": "1.2.0",
            "_view_name": "LayoutView",
            "align_content": null,
            "align_items": null,
            "align_self": null,
            "border": null,
            "bottom": null,
            "display": null,
            "flex": null,
            "flex_flow": null,
            "grid_area": null,
            "grid_auto_columns": null,
            "grid_auto_flow": null,
            "grid_auto_rows": null,
            "grid_column": null,
            "grid_gap": null,
            "grid_row": null,
            "grid_template_areas": null,
            "grid_template_columns": null,
            "grid_template_rows": null,
            "height": null,
            "justify_content": null,
            "justify_items": null,
            "left": null,
            "margin": null,
            "max_height": null,
            "max_width": null,
            "min_height": null,
            "min_width": null,
            "object_fit": null,
            "object_position": null,
            "order": null,
            "overflow": null,
            "overflow_x": null,
            "overflow_y": null,
            "padding": null,
            "right": null,
            "top": null,
            "visibility": null,
            "width": null
          }
        },
        "747249a1dd524d3fa688eaace36111b0": {
          "model_module": "@jupyter-widgets/controls",
          "model_name": "DescriptionStyleModel",
          "model_module_version": "1.5.0",
          "state": {
            "_model_module": "@jupyter-widgets/controls",
            "_model_module_version": "1.5.0",
            "_model_name": "DescriptionStyleModel",
            "_view_count": null,
            "_view_module": "@jupyter-widgets/base",
            "_view_module_version": "1.2.0",
            "_view_name": "StyleView",
            "description_width": ""
          }
        },
        "c203a0943b3146d092f97004f256b8bb": {
          "model_module": "@jupyter-widgets/controls",
          "model_name": "HBoxModel",
          "model_module_version": "1.5.0",
          "state": {
            "_dom_classes": [],
            "_model_module": "@jupyter-widgets/controls",
            "_model_module_version": "1.5.0",
            "_model_name": "HBoxModel",
            "_view_count": null,
            "_view_module": "@jupyter-widgets/controls",
            "_view_module_version": "1.5.0",
            "_view_name": "HBoxView",
            "box_style": "",
            "children": [
              "IPY_MODEL_1d846edf90c242808b3b43cfaecdaa39",
              "IPY_MODEL_b12e74aaa04041bbb7cccb142730c8e0",
              "IPY_MODEL_fccc70fae8de48a3aa8077481875ef95"
            ],
            "layout": "IPY_MODEL_2e2d18564c5142428b3c5b2789387184"
          }
        },
        "1d846edf90c242808b3b43cfaecdaa39": {
          "model_module": "@jupyter-widgets/controls",
          "model_name": "HTMLModel",
          "model_module_version": "1.5.0",
          "state": {
            "_dom_classes": [],
            "_model_module": "@jupyter-widgets/controls",
            "_model_module_version": "1.5.0",
            "_model_name": "HTMLModel",
            "_view_count": null,
            "_view_module": "@jupyter-widgets/controls",
            "_view_module_version": "1.5.0",
            "_view_name": "HTMLView",
            "description": "",
            "description_tooltip": null,
            "layout": "IPY_MODEL_adc9022193804392b6fd237ea97e4c94",
            "placeholder": "​",
            "style": "IPY_MODEL_80af5e3991a5417b93656d281ea5517a",
            "value": "DeepFool: 100%"
          }
        },
        "b12e74aaa04041bbb7cccb142730c8e0": {
          "model_module": "@jupyter-widgets/controls",
          "model_name": "FloatProgressModel",
          "model_module_version": "1.5.0",
          "state": {
            "_dom_classes": [],
            "_model_module": "@jupyter-widgets/controls",
            "_model_module_version": "1.5.0",
            "_model_name": "FloatProgressModel",
            "_view_count": null,
            "_view_module": "@jupyter-widgets/controls",
            "_view_module_version": "1.5.0",
            "_view_name": "ProgressView",
            "bar_style": "success",
            "description": "",
            "description_tooltip": null,
            "layout": "IPY_MODEL_b259ee07a3c34b1194990db2a7074e85",
            "max": 86,
            "min": 0,
            "orientation": "horizontal",
            "style": "IPY_MODEL_4dc95b2736b14ca9ad06dbe88e724fad",
            "value": 86
          }
        },
        "fccc70fae8de48a3aa8077481875ef95": {
          "model_module": "@jupyter-widgets/controls",
          "model_name": "HTMLModel",
          "model_module_version": "1.5.0",
          "state": {
            "_dom_classes": [],
            "_model_module": "@jupyter-widgets/controls",
            "_model_module_version": "1.5.0",
            "_model_name": "HTMLModel",
            "_view_count": null,
            "_view_module": "@jupyter-widgets/controls",
            "_view_module_version": "1.5.0",
            "_view_name": "HTMLView",
            "description": "",
            "description_tooltip": null,
            "layout": "IPY_MODEL_e9f92c374ac24f6381646e139cd6ce06",
            "placeholder": "​",
            "style": "IPY_MODEL_1372c341cabf4f7caefeb60b290ac35c",
            "value": " 86/86 [06:56&lt;00:00,  4.83s/it]"
          }
        },
        "2e2d18564c5142428b3c5b2789387184": {
          "model_module": "@jupyter-widgets/base",
          "model_name": "LayoutModel",
          "model_module_version": "1.2.0",
          "state": {
            "_model_module": "@jupyter-widgets/base",
            "_model_module_version": "1.2.0",
            "_model_name": "LayoutModel",
            "_view_count": null,
            "_view_module": "@jupyter-widgets/base",
            "_view_module_version": "1.2.0",
            "_view_name": "LayoutView",
            "align_content": null,
            "align_items": null,
            "align_self": null,
            "border": null,
            "bottom": null,
            "display": null,
            "flex": null,
            "flex_flow": null,
            "grid_area": null,
            "grid_auto_columns": null,
            "grid_auto_flow": null,
            "grid_auto_rows": null,
            "grid_column": null,
            "grid_gap": null,
            "grid_row": null,
            "grid_template_areas": null,
            "grid_template_columns": null,
            "grid_template_rows": null,
            "height": null,
            "justify_content": null,
            "justify_items": null,
            "left": null,
            "margin": null,
            "max_height": null,
            "max_width": null,
            "min_height": null,
            "min_width": null,
            "object_fit": null,
            "object_position": null,
            "order": null,
            "overflow": null,
            "overflow_x": null,
            "overflow_y": null,
            "padding": null,
            "right": null,
            "top": null,
            "visibility": null,
            "width": null
          }
        },
        "adc9022193804392b6fd237ea97e4c94": {
          "model_module": "@jupyter-widgets/base",
          "model_name": "LayoutModel",
          "model_module_version": "1.2.0",
          "state": {
            "_model_module": "@jupyter-widgets/base",
            "_model_module_version": "1.2.0",
            "_model_name": "LayoutModel",
            "_view_count": null,
            "_view_module": "@jupyter-widgets/base",
            "_view_module_version": "1.2.0",
            "_view_name": "LayoutView",
            "align_content": null,
            "align_items": null,
            "align_self": null,
            "border": null,
            "bottom": null,
            "display": null,
            "flex": null,
            "flex_flow": null,
            "grid_area": null,
            "grid_auto_columns": null,
            "grid_auto_flow": null,
            "grid_auto_rows": null,
            "grid_column": null,
            "grid_gap": null,
            "grid_row": null,
            "grid_template_areas": null,
            "grid_template_columns": null,
            "grid_template_rows": null,
            "height": null,
            "justify_content": null,
            "justify_items": null,
            "left": null,
            "margin": null,
            "max_height": null,
            "max_width": null,
            "min_height": null,
            "min_width": null,
            "object_fit": null,
            "object_position": null,
            "order": null,
            "overflow": null,
            "overflow_x": null,
            "overflow_y": null,
            "padding": null,
            "right": null,
            "top": null,
            "visibility": null,
            "width": null
          }
        },
        "80af5e3991a5417b93656d281ea5517a": {
          "model_module": "@jupyter-widgets/controls",
          "model_name": "DescriptionStyleModel",
          "model_module_version": "1.5.0",
          "state": {
            "_model_module": "@jupyter-widgets/controls",
            "_model_module_version": "1.5.0",
            "_model_name": "DescriptionStyleModel",
            "_view_count": null,
            "_view_module": "@jupyter-widgets/base",
            "_view_module_version": "1.2.0",
            "_view_name": "StyleView",
            "description_width": ""
          }
        },
        "b259ee07a3c34b1194990db2a7074e85": {
          "model_module": "@jupyter-widgets/base",
          "model_name": "LayoutModel",
          "model_module_version": "1.2.0",
          "state": {
            "_model_module": "@jupyter-widgets/base",
            "_model_module_version": "1.2.0",
            "_model_name": "LayoutModel",
            "_view_count": null,
            "_view_module": "@jupyter-widgets/base",
            "_view_module_version": "1.2.0",
            "_view_name": "LayoutView",
            "align_content": null,
            "align_items": null,
            "align_self": null,
            "border": null,
            "bottom": null,
            "display": null,
            "flex": null,
            "flex_flow": null,
            "grid_area": null,
            "grid_auto_columns": null,
            "grid_auto_flow": null,
            "grid_auto_rows": null,
            "grid_column": null,
            "grid_gap": null,
            "grid_row": null,
            "grid_template_areas": null,
            "grid_template_columns": null,
            "grid_template_rows": null,
            "height": null,
            "justify_content": null,
            "justify_items": null,
            "left": null,
            "margin": null,
            "max_height": null,
            "max_width": null,
            "min_height": null,
            "min_width": null,
            "object_fit": null,
            "object_position": null,
            "order": null,
            "overflow": null,
            "overflow_x": null,
            "overflow_y": null,
            "padding": null,
            "right": null,
            "top": null,
            "visibility": null,
            "width": null
          }
        },
        "4dc95b2736b14ca9ad06dbe88e724fad": {
          "model_module": "@jupyter-widgets/controls",
          "model_name": "ProgressStyleModel",
          "model_module_version": "1.5.0",
          "state": {
            "_model_module": "@jupyter-widgets/controls",
            "_model_module_version": "1.5.0",
            "_model_name": "ProgressStyleModel",
            "_view_count": null,
            "_view_module": "@jupyter-widgets/base",
            "_view_module_version": "1.2.0",
            "_view_name": "StyleView",
            "bar_color": null,
            "description_width": ""
          }
        },
        "e9f92c374ac24f6381646e139cd6ce06": {
          "model_module": "@jupyter-widgets/base",
          "model_name": "LayoutModel",
          "model_module_version": "1.2.0",
          "state": {
            "_model_module": "@jupyter-widgets/base",
            "_model_module_version": "1.2.0",
            "_model_name": "LayoutModel",
            "_view_count": null,
            "_view_module": "@jupyter-widgets/base",
            "_view_module_version": "1.2.0",
            "_view_name": "LayoutView",
            "align_content": null,
            "align_items": null,
            "align_self": null,
            "border": null,
            "bottom": null,
            "display": null,
            "flex": null,
            "flex_flow": null,
            "grid_area": null,
            "grid_auto_columns": null,
            "grid_auto_flow": null,
            "grid_auto_rows": null,
            "grid_column": null,
            "grid_gap": null,
            "grid_row": null,
            "grid_template_areas": null,
            "grid_template_columns": null,
            "grid_template_rows": null,
            "height": null,
            "justify_content": null,
            "justify_items": null,
            "left": null,
            "margin": null,
            "max_height": null,
            "max_width": null,
            "min_height": null,
            "min_width": null,
            "object_fit": null,
            "object_position": null,
            "order": null,
            "overflow": null,
            "overflow_x": null,
            "overflow_y": null,
            "padding": null,
            "right": null,
            "top": null,
            "visibility": null,
            "width": null
          }
        },
        "1372c341cabf4f7caefeb60b290ac35c": {
          "model_module": "@jupyter-widgets/controls",
          "model_name": "DescriptionStyleModel",
          "model_module_version": "1.5.0",
          "state": {
            "_model_module": "@jupyter-widgets/controls",
            "_model_module_version": "1.5.0",
            "_model_name": "DescriptionStyleModel",
            "_view_count": null,
            "_view_module": "@jupyter-widgets/base",
            "_view_module_version": "1.2.0",
            "_view_name": "StyleView",
            "description_width": ""
          }
        },
        "4fe1975d787d49349af11b585de94e48": {
          "model_module": "@jupyter-widgets/controls",
          "model_name": "HBoxModel",
          "model_module_version": "1.5.0",
          "state": {
            "_dom_classes": [],
            "_model_module": "@jupyter-widgets/controls",
            "_model_module_version": "1.5.0",
            "_model_name": "HBoxModel",
            "_view_count": null,
            "_view_module": "@jupyter-widgets/controls",
            "_view_module_version": "1.5.0",
            "_view_name": "HBoxView",
            "box_style": "",
            "children": [
              "IPY_MODEL_11b9578d3fd64f4db64f006bd9bcbc29",
              "IPY_MODEL_d51b164ecab743cdb83881c73fcb639a",
              "IPY_MODEL_708c370758494b759fb8736ef206b20c"
            ],
            "layout": "IPY_MODEL_147f3aae20724c8598568e85f0ec3ede"
          }
        },
        "11b9578d3fd64f4db64f006bd9bcbc29": {
          "model_module": "@jupyter-widgets/controls",
          "model_name": "HTMLModel",
          "model_module_version": "1.5.0",
          "state": {
            "_dom_classes": [],
            "_model_module": "@jupyter-widgets/controls",
            "_model_module_version": "1.5.0",
            "_model_name": "HTMLModel",
            "_view_count": null,
            "_view_module": "@jupyter-widgets/controls",
            "_view_module_version": "1.5.0",
            "_view_name": "HTMLView",
            "description": "",
            "description_tooltip": null,
            "layout": "IPY_MODEL_2e555ae41f5843a99d7b27f1f989e633",
            "placeholder": "​",
            "style": "IPY_MODEL_60c5f80cf7c84ae5897ceeb0d0ea40af",
            "value": "C&amp;W L_2: 100%"
          }
        },
        "d51b164ecab743cdb83881c73fcb639a": {
          "model_module": "@jupyter-widgets/controls",
          "model_name": "FloatProgressModel",
          "model_module_version": "1.5.0",
          "state": {
            "_dom_classes": [],
            "_model_module": "@jupyter-widgets/controls",
            "_model_module_version": "1.5.0",
            "_model_name": "FloatProgressModel",
            "_view_count": null,
            "_view_module": "@jupyter-widgets/controls",
            "_view_module_version": "1.5.0",
            "_view_name": "ProgressView",
            "bar_style": "success",
            "description": "",
            "description_tooltip": null,
            "layout": "IPY_MODEL_058bcf246e25446ca2d403b9e4bc2ca7",
            "max": 86,
            "min": 0,
            "orientation": "horizontal",
            "style": "IPY_MODEL_17578f702cb14ce1b35d9668d087bae5",
            "value": 86
          }
        },
        "708c370758494b759fb8736ef206b20c": {
          "model_module": "@jupyter-widgets/controls",
          "model_name": "HTMLModel",
          "model_module_version": "1.5.0",
          "state": {
            "_dom_classes": [],
            "_model_module": "@jupyter-widgets/controls",
            "_model_module_version": "1.5.0",
            "_model_name": "HTMLModel",
            "_view_count": null,
            "_view_module": "@jupyter-widgets/controls",
            "_view_module_version": "1.5.0",
            "_view_name": "HTMLView",
            "description": "",
            "description_tooltip": null,
            "layout": "IPY_MODEL_b94c172836544ccd9f1b4c5cf88593cc",
            "placeholder": "​",
            "style": "IPY_MODEL_e0ebc6d408f74fccb4cd8d3798321386",
            "value": " 86/86 [12:41&lt;00:00,  8.62s/it]"
          }
        },
        "147f3aae20724c8598568e85f0ec3ede": {
          "model_module": "@jupyter-widgets/base",
          "model_name": "LayoutModel",
          "model_module_version": "1.2.0",
          "state": {
            "_model_module": "@jupyter-widgets/base",
            "_model_module_version": "1.2.0",
            "_model_name": "LayoutModel",
            "_view_count": null,
            "_view_module": "@jupyter-widgets/base",
            "_view_module_version": "1.2.0",
            "_view_name": "LayoutView",
            "align_content": null,
            "align_items": null,
            "align_self": null,
            "border": null,
            "bottom": null,
            "display": null,
            "flex": null,
            "flex_flow": null,
            "grid_area": null,
            "grid_auto_columns": null,
            "grid_auto_flow": null,
            "grid_auto_rows": null,
            "grid_column": null,
            "grid_gap": null,
            "grid_row": null,
            "grid_template_areas": null,
            "grid_template_columns": null,
            "grid_template_rows": null,
            "height": null,
            "justify_content": null,
            "justify_items": null,
            "left": null,
            "margin": null,
            "max_height": null,
            "max_width": null,
            "min_height": null,
            "min_width": null,
            "object_fit": null,
            "object_position": null,
            "order": null,
            "overflow": null,
            "overflow_x": null,
            "overflow_y": null,
            "padding": null,
            "right": null,
            "top": null,
            "visibility": null,
            "width": null
          }
        },
        "2e555ae41f5843a99d7b27f1f989e633": {
          "model_module": "@jupyter-widgets/base",
          "model_name": "LayoutModel",
          "model_module_version": "1.2.0",
          "state": {
            "_model_module": "@jupyter-widgets/base",
            "_model_module_version": "1.2.0",
            "_model_name": "LayoutModel",
            "_view_count": null,
            "_view_module": "@jupyter-widgets/base",
            "_view_module_version": "1.2.0",
            "_view_name": "LayoutView",
            "align_content": null,
            "align_items": null,
            "align_self": null,
            "border": null,
            "bottom": null,
            "display": null,
            "flex": null,
            "flex_flow": null,
            "grid_area": null,
            "grid_auto_columns": null,
            "grid_auto_flow": null,
            "grid_auto_rows": null,
            "grid_column": null,
            "grid_gap": null,
            "grid_row": null,
            "grid_template_areas": null,
            "grid_template_columns": null,
            "grid_template_rows": null,
            "height": null,
            "justify_content": null,
            "justify_items": null,
            "left": null,
            "margin": null,
            "max_height": null,
            "max_width": null,
            "min_height": null,
            "min_width": null,
            "object_fit": null,
            "object_position": null,
            "order": null,
            "overflow": null,
            "overflow_x": null,
            "overflow_y": null,
            "padding": null,
            "right": null,
            "top": null,
            "visibility": null,
            "width": null
          }
        },
        "60c5f80cf7c84ae5897ceeb0d0ea40af": {
          "model_module": "@jupyter-widgets/controls",
          "model_name": "DescriptionStyleModel",
          "model_module_version": "1.5.0",
          "state": {
            "_model_module": "@jupyter-widgets/controls",
            "_model_module_version": "1.5.0",
            "_model_name": "DescriptionStyleModel",
            "_view_count": null,
            "_view_module": "@jupyter-widgets/base",
            "_view_module_version": "1.2.0",
            "_view_name": "StyleView",
            "description_width": ""
          }
        },
        "058bcf246e25446ca2d403b9e4bc2ca7": {
          "model_module": "@jupyter-widgets/base",
          "model_name": "LayoutModel",
          "model_module_version": "1.2.0",
          "state": {
            "_model_module": "@jupyter-widgets/base",
            "_model_module_version": "1.2.0",
            "_model_name": "LayoutModel",
            "_view_count": null,
            "_view_module": "@jupyter-widgets/base",
            "_view_module_version": "1.2.0",
            "_view_name": "LayoutView",
            "align_content": null,
            "align_items": null,
            "align_self": null,
            "border": null,
            "bottom": null,
            "display": null,
            "flex": null,
            "flex_flow": null,
            "grid_area": null,
            "grid_auto_columns": null,
            "grid_auto_flow": null,
            "grid_auto_rows": null,
            "grid_column": null,
            "grid_gap": null,
            "grid_row": null,
            "grid_template_areas": null,
            "grid_template_columns": null,
            "grid_template_rows": null,
            "height": null,
            "justify_content": null,
            "justify_items": null,
            "left": null,
            "margin": null,
            "max_height": null,
            "max_width": null,
            "min_height": null,
            "min_width": null,
            "object_fit": null,
            "object_position": null,
            "order": null,
            "overflow": null,
            "overflow_x": null,
            "overflow_y": null,
            "padding": null,
            "right": null,
            "top": null,
            "visibility": null,
            "width": null
          }
        },
        "17578f702cb14ce1b35d9668d087bae5": {
          "model_module": "@jupyter-widgets/controls",
          "model_name": "ProgressStyleModel",
          "model_module_version": "1.5.0",
          "state": {
            "_model_module": "@jupyter-widgets/controls",
            "_model_module_version": "1.5.0",
            "_model_name": "ProgressStyleModel",
            "_view_count": null,
            "_view_module": "@jupyter-widgets/base",
            "_view_module_version": "1.2.0",
            "_view_name": "StyleView",
            "bar_color": null,
            "description_width": ""
          }
        },
        "b94c172836544ccd9f1b4c5cf88593cc": {
          "model_module": "@jupyter-widgets/base",
          "model_name": "LayoutModel",
          "model_module_version": "1.2.0",
          "state": {
            "_model_module": "@jupyter-widgets/base",
            "_model_module_version": "1.2.0",
            "_model_name": "LayoutModel",
            "_view_count": null,
            "_view_module": "@jupyter-widgets/base",
            "_view_module_version": "1.2.0",
            "_view_name": "LayoutView",
            "align_content": null,
            "align_items": null,
            "align_self": null,
            "border": null,
            "bottom": null,
            "display": null,
            "flex": null,
            "flex_flow": null,
            "grid_area": null,
            "grid_auto_columns": null,
            "grid_auto_flow": null,
            "grid_auto_rows": null,
            "grid_column": null,
            "grid_gap": null,
            "grid_row": null,
            "grid_template_areas": null,
            "grid_template_columns": null,
            "grid_template_rows": null,
            "height": null,
            "justify_content": null,
            "justify_items": null,
            "left": null,
            "margin": null,
            "max_height": null,
            "max_width": null,
            "min_height": null,
            "min_width": null,
            "object_fit": null,
            "object_position": null,
            "order": null,
            "overflow": null,
            "overflow_x": null,
            "overflow_y": null,
            "padding": null,
            "right": null,
            "top": null,
            "visibility": null,
            "width": null
          }
        },
        "e0ebc6d408f74fccb4cd8d3798321386": {
          "model_module": "@jupyter-widgets/controls",
          "model_name": "DescriptionStyleModel",
          "model_module_version": "1.5.0",
          "state": {
            "_model_module": "@jupyter-widgets/controls",
            "_model_module_version": "1.5.0",
            "_model_name": "DescriptionStyleModel",
            "_view_count": null,
            "_view_module": "@jupyter-widgets/base",
            "_view_module_version": "1.2.0",
            "_view_name": "StyleView",
            "description_width": ""
          }
        },
        "1028c3dd71804a4aa71fdced0228ef8d": {
          "model_module": "@jupyter-widgets/controls",
          "model_name": "HBoxModel",
          "model_module_version": "1.5.0",
          "state": {
            "_dom_classes": [],
            "_model_module": "@jupyter-widgets/controls",
            "_model_module_version": "1.5.0",
            "_model_name": "HBoxModel",
            "_view_count": null,
            "_view_module": "@jupyter-widgets/controls",
            "_view_module_version": "1.5.0",
            "_view_name": "HBoxView",
            "box_style": "",
            "children": [
              "IPY_MODEL_6ff4ddf9d06941d69e26cfb38aedd20b",
              "IPY_MODEL_742fc06faeab474c8fdda8374112ff6d",
              "IPY_MODEL_510097409a2646b785141c617202f637"
            ],
            "layout": "IPY_MODEL_34752824f04d4044819d2e7f8b05afb5"
          }
        },
        "6ff4ddf9d06941d69e26cfb38aedd20b": {
          "model_module": "@jupyter-widgets/controls",
          "model_name": "HTMLModel",
          "model_module_version": "1.5.0",
          "state": {
            "_dom_classes": [],
            "_model_module": "@jupyter-widgets/controls",
            "_model_module_version": "1.5.0",
            "_model_name": "HTMLModel",
            "_view_count": null,
            "_view_module": "@jupyter-widgets/controls",
            "_view_module_version": "1.5.0",
            "_view_name": "HTMLView",
            "description": "",
            "description_tooltip": null,
            "layout": "IPY_MODEL_ba81258103474ac3878dac3025fc232a",
            "placeholder": "​",
            "style": "IPY_MODEL_5489d5a412924a2890ec73ff030b2a9b",
            "value": "C&amp;W L_inf: 100%"
          }
        },
        "742fc06faeab474c8fdda8374112ff6d": {
          "model_module": "@jupyter-widgets/controls",
          "model_name": "FloatProgressModel",
          "model_module_version": "1.5.0",
          "state": {
            "_dom_classes": [],
            "_model_module": "@jupyter-widgets/controls",
            "_model_module_version": "1.5.0",
            "_model_name": "FloatProgressModel",
            "_view_count": null,
            "_view_module": "@jupyter-widgets/controls",
            "_view_module_version": "1.5.0",
            "_view_name": "ProgressView",
            "bar_style": "success",
            "description": "",
            "description_tooltip": null,
            "layout": "IPY_MODEL_65d3823146c24f88b885b0212bddda01",
            "max": 86,
            "min": 0,
            "orientation": "horizontal",
            "style": "IPY_MODEL_46c9725243d94031824fa996d72325a6",
            "value": 86
          }
        },
        "510097409a2646b785141c617202f637": {
          "model_module": "@jupyter-widgets/controls",
          "model_name": "HTMLModel",
          "model_module_version": "1.5.0",
          "state": {
            "_dom_classes": [],
            "_model_module": "@jupyter-widgets/controls",
            "_model_module_version": "1.5.0",
            "_model_name": "HTMLModel",
            "_view_count": null,
            "_view_module": "@jupyter-widgets/controls",
            "_view_module_version": "1.5.0",
            "_view_name": "HTMLView",
            "description": "",
            "description_tooltip": null,
            "layout": "IPY_MODEL_de3a42783b594f4fa7d194f6ef3cccc3",
            "placeholder": "​",
            "style": "IPY_MODEL_785c81b11843488b9aa750db34d67b76",
            "value": " 86/86 [08:58&lt;00:00,  6.03s/it]"
          }
        },
        "34752824f04d4044819d2e7f8b05afb5": {
          "model_module": "@jupyter-widgets/base",
          "model_name": "LayoutModel",
          "model_module_version": "1.2.0",
          "state": {
            "_model_module": "@jupyter-widgets/base",
            "_model_module_version": "1.2.0",
            "_model_name": "LayoutModel",
            "_view_count": null,
            "_view_module": "@jupyter-widgets/base",
            "_view_module_version": "1.2.0",
            "_view_name": "LayoutView",
            "align_content": null,
            "align_items": null,
            "align_self": null,
            "border": null,
            "bottom": null,
            "display": null,
            "flex": null,
            "flex_flow": null,
            "grid_area": null,
            "grid_auto_columns": null,
            "grid_auto_flow": null,
            "grid_auto_rows": null,
            "grid_column": null,
            "grid_gap": null,
            "grid_row": null,
            "grid_template_areas": null,
            "grid_template_columns": null,
            "grid_template_rows": null,
            "height": null,
            "justify_content": null,
            "justify_items": null,
            "left": null,
            "margin": null,
            "max_height": null,
            "max_width": null,
            "min_height": null,
            "min_width": null,
            "object_fit": null,
            "object_position": null,
            "order": null,
            "overflow": null,
            "overflow_x": null,
            "overflow_y": null,
            "padding": null,
            "right": null,
            "top": null,
            "visibility": null,
            "width": null
          }
        },
        "ba81258103474ac3878dac3025fc232a": {
          "model_module": "@jupyter-widgets/base",
          "model_name": "LayoutModel",
          "model_module_version": "1.2.0",
          "state": {
            "_model_module": "@jupyter-widgets/base",
            "_model_module_version": "1.2.0",
            "_model_name": "LayoutModel",
            "_view_count": null,
            "_view_module": "@jupyter-widgets/base",
            "_view_module_version": "1.2.0",
            "_view_name": "LayoutView",
            "align_content": null,
            "align_items": null,
            "align_self": null,
            "border": null,
            "bottom": null,
            "display": null,
            "flex": null,
            "flex_flow": null,
            "grid_area": null,
            "grid_auto_columns": null,
            "grid_auto_flow": null,
            "grid_auto_rows": null,
            "grid_column": null,
            "grid_gap": null,
            "grid_row": null,
            "grid_template_areas": null,
            "grid_template_columns": null,
            "grid_template_rows": null,
            "height": null,
            "justify_content": null,
            "justify_items": null,
            "left": null,
            "margin": null,
            "max_height": null,
            "max_width": null,
            "min_height": null,
            "min_width": null,
            "object_fit": null,
            "object_position": null,
            "order": null,
            "overflow": null,
            "overflow_x": null,
            "overflow_y": null,
            "padding": null,
            "right": null,
            "top": null,
            "visibility": null,
            "width": null
          }
        },
        "5489d5a412924a2890ec73ff030b2a9b": {
          "model_module": "@jupyter-widgets/controls",
          "model_name": "DescriptionStyleModel",
          "model_module_version": "1.5.0",
          "state": {
            "_model_module": "@jupyter-widgets/controls",
            "_model_module_version": "1.5.0",
            "_model_name": "DescriptionStyleModel",
            "_view_count": null,
            "_view_module": "@jupyter-widgets/base",
            "_view_module_version": "1.2.0",
            "_view_name": "StyleView",
            "description_width": ""
          }
        },
        "65d3823146c24f88b885b0212bddda01": {
          "model_module": "@jupyter-widgets/base",
          "model_name": "LayoutModel",
          "model_module_version": "1.2.0",
          "state": {
            "_model_module": "@jupyter-widgets/base",
            "_model_module_version": "1.2.0",
            "_model_name": "LayoutModel",
            "_view_count": null,
            "_view_module": "@jupyter-widgets/base",
            "_view_module_version": "1.2.0",
            "_view_name": "LayoutView",
            "align_content": null,
            "align_items": null,
            "align_self": null,
            "border": null,
            "bottom": null,
            "display": null,
            "flex": null,
            "flex_flow": null,
            "grid_area": null,
            "grid_auto_columns": null,
            "grid_auto_flow": null,
            "grid_auto_rows": null,
            "grid_column": null,
            "grid_gap": null,
            "grid_row": null,
            "grid_template_areas": null,
            "grid_template_columns": null,
            "grid_template_rows": null,
            "height": null,
            "justify_content": null,
            "justify_items": null,
            "left": null,
            "margin": null,
            "max_height": null,
            "max_width": null,
            "min_height": null,
            "min_width": null,
            "object_fit": null,
            "object_position": null,
            "order": null,
            "overflow": null,
            "overflow_x": null,
            "overflow_y": null,
            "padding": null,
            "right": null,
            "top": null,
            "visibility": null,
            "width": null
          }
        },
        "46c9725243d94031824fa996d72325a6": {
          "model_module": "@jupyter-widgets/controls",
          "model_name": "ProgressStyleModel",
          "model_module_version": "1.5.0",
          "state": {
            "_model_module": "@jupyter-widgets/controls",
            "_model_module_version": "1.5.0",
            "_model_name": "ProgressStyleModel",
            "_view_count": null,
            "_view_module": "@jupyter-widgets/base",
            "_view_module_version": "1.2.0",
            "_view_name": "StyleView",
            "bar_color": null,
            "description_width": ""
          }
        },
        "de3a42783b594f4fa7d194f6ef3cccc3": {
          "model_module": "@jupyter-widgets/base",
          "model_name": "LayoutModel",
          "model_module_version": "1.2.0",
          "state": {
            "_model_module": "@jupyter-widgets/base",
            "_model_module_version": "1.2.0",
            "_model_name": "LayoutModel",
            "_view_count": null,
            "_view_module": "@jupyter-widgets/base",
            "_view_module_version": "1.2.0",
            "_view_name": "LayoutView",
            "align_content": null,
            "align_items": null,
            "align_self": null,
            "border": null,
            "bottom": null,
            "display": null,
            "flex": null,
            "flex_flow": null,
            "grid_area": null,
            "grid_auto_columns": null,
            "grid_auto_flow": null,
            "grid_auto_rows": null,
            "grid_column": null,
            "grid_gap": null,
            "grid_row": null,
            "grid_template_areas": null,
            "grid_template_columns": null,
            "grid_template_rows": null,
            "height": null,
            "justify_content": null,
            "justify_items": null,
            "left": null,
            "margin": null,
            "max_height": null,
            "max_width": null,
            "min_height": null,
            "min_width": null,
            "object_fit": null,
            "object_position": null,
            "order": null,
            "overflow": null,
            "overflow_x": null,
            "overflow_y": null,
            "padding": null,
            "right": null,
            "top": null,
            "visibility": null,
            "width": null
          }
        },
        "785c81b11843488b9aa750db34d67b76": {
          "model_module": "@jupyter-widgets/controls",
          "model_name": "DescriptionStyleModel",
          "model_module_version": "1.5.0",
          "state": {
            "_model_module": "@jupyter-widgets/controls",
            "_model_module_version": "1.5.0",
            "_model_name": "DescriptionStyleModel",
            "_view_count": null,
            "_view_module": "@jupyter-widgets/base",
            "_view_module_version": "1.2.0",
            "_view_name": "StyleView",
            "description_width": ""
          }
        },
        "a46e08461e5849bebb347af6f1348eec": {
          "model_module": "@jupyter-widgets/controls",
          "model_name": "HBoxModel",
          "model_module_version": "1.5.0",
          "state": {
            "_dom_classes": [],
            "_model_module": "@jupyter-widgets/controls",
            "_model_module_version": "1.5.0",
            "_model_name": "HBoxModel",
            "_view_count": null,
            "_view_module": "@jupyter-widgets/controls",
            "_view_module_version": "1.5.0",
            "_view_name": "HBoxView",
            "box_style": "",
            "children": [
              "IPY_MODEL_804d67e1e7144ec684a083f0d36c7f50",
              "IPY_MODEL_95d61189956546118d79817b4082d598",
              "IPY_MODEL_c014e8b15ea54c87ae9c073243bb3b00"
            ],
            "layout": "IPY_MODEL_4fcf57210947424fb7b4184350346986"
          }
        },
        "804d67e1e7144ec684a083f0d36c7f50": {
          "model_module": "@jupyter-widgets/controls",
          "model_name": "HTMLModel",
          "model_module_version": "1.5.0",
          "state": {
            "_dom_classes": [],
            "_model_module": "@jupyter-widgets/controls",
            "_model_module_version": "1.5.0",
            "_model_name": "HTMLModel",
            "_view_count": null,
            "_view_module": "@jupyter-widgets/controls",
            "_view_module_version": "1.5.0",
            "_view_name": "HTMLView",
            "description": "",
            "description_tooltip": null,
            "layout": "IPY_MODEL_2cbb55208e994d1d99b52344bca839d2",
            "placeholder": "​",
            "style": "IPY_MODEL_a21eb7a6e4e44bc28a04b79058875b5a",
            "value": "Boundary attack: 100%"
          }
        },
        "95d61189956546118d79817b4082d598": {
          "model_module": "@jupyter-widgets/controls",
          "model_name": "FloatProgressModel",
          "model_module_version": "1.5.0",
          "state": {
            "_dom_classes": [],
            "_model_module": "@jupyter-widgets/controls",
            "_model_module_version": "1.5.0",
            "_model_name": "FloatProgressModel",
            "_view_count": null,
            "_view_module": "@jupyter-widgets/controls",
            "_view_module_version": "1.5.0",
            "_view_name": "ProgressView",
            "bar_style": "success",
            "description": "",
            "description_tooltip": null,
            "layout": "IPY_MODEL_a306675b881f45a3a338fee2a00880f7",
            "max": 86,
            "min": 0,
            "orientation": "horizontal",
            "style": "IPY_MODEL_d00500dfd54041deb3326c948837bc18",
            "value": 86
          }
        },
        "c014e8b15ea54c87ae9c073243bb3b00": {
          "model_module": "@jupyter-widgets/controls",
          "model_name": "HTMLModel",
          "model_module_version": "1.5.0",
          "state": {
            "_dom_classes": [],
            "_model_module": "@jupyter-widgets/controls",
            "_model_module_version": "1.5.0",
            "_model_name": "HTMLModel",
            "_view_count": null,
            "_view_module": "@jupyter-widgets/controls",
            "_view_module_version": "1.5.0",
            "_view_name": "HTMLView",
            "description": "",
            "description_tooltip": null,
            "layout": "IPY_MODEL_755a6082c1f84a408eaa2f6f7b6dd940",
            "placeholder": "​",
            "style": "IPY_MODEL_c398caec33c94b68a30c51f9824412a7",
            "value": " 86/86 [00:00&lt;00:00, 1490.32it/s]"
          }
        },
        "4fcf57210947424fb7b4184350346986": {
          "model_module": "@jupyter-widgets/base",
          "model_name": "LayoutModel",
          "model_module_version": "1.2.0",
          "state": {
            "_model_module": "@jupyter-widgets/base",
            "_model_module_version": "1.2.0",
            "_model_name": "LayoutModel",
            "_view_count": null,
            "_view_module": "@jupyter-widgets/base",
            "_view_module_version": "1.2.0",
            "_view_name": "LayoutView",
            "align_content": null,
            "align_items": null,
            "align_self": null,
            "border": null,
            "bottom": null,
            "display": null,
            "flex": null,
            "flex_flow": null,
            "grid_area": null,
            "grid_auto_columns": null,
            "grid_auto_flow": null,
            "grid_auto_rows": null,
            "grid_column": null,
            "grid_gap": null,
            "grid_row": null,
            "grid_template_areas": null,
            "grid_template_columns": null,
            "grid_template_rows": null,
            "height": null,
            "justify_content": null,
            "justify_items": null,
            "left": null,
            "margin": null,
            "max_height": null,
            "max_width": null,
            "min_height": null,
            "min_width": null,
            "object_fit": null,
            "object_position": null,
            "order": null,
            "overflow": null,
            "overflow_x": null,
            "overflow_y": null,
            "padding": null,
            "right": null,
            "top": null,
            "visibility": null,
            "width": null
          }
        },
        "2cbb55208e994d1d99b52344bca839d2": {
          "model_module": "@jupyter-widgets/base",
          "model_name": "LayoutModel",
          "model_module_version": "1.2.0",
          "state": {
            "_model_module": "@jupyter-widgets/base",
            "_model_module_version": "1.2.0",
            "_model_name": "LayoutModel",
            "_view_count": null,
            "_view_module": "@jupyter-widgets/base",
            "_view_module_version": "1.2.0",
            "_view_name": "LayoutView",
            "align_content": null,
            "align_items": null,
            "align_self": null,
            "border": null,
            "bottom": null,
            "display": null,
            "flex": null,
            "flex_flow": null,
            "grid_area": null,
            "grid_auto_columns": null,
            "grid_auto_flow": null,
            "grid_auto_rows": null,
            "grid_column": null,
            "grid_gap": null,
            "grid_row": null,
            "grid_template_areas": null,
            "grid_template_columns": null,
            "grid_template_rows": null,
            "height": null,
            "justify_content": null,
            "justify_items": null,
            "left": null,
            "margin": null,
            "max_height": null,
            "max_width": null,
            "min_height": null,
            "min_width": null,
            "object_fit": null,
            "object_position": null,
            "order": null,
            "overflow": null,
            "overflow_x": null,
            "overflow_y": null,
            "padding": null,
            "right": null,
            "top": null,
            "visibility": null,
            "width": null
          }
        },
        "a21eb7a6e4e44bc28a04b79058875b5a": {
          "model_module": "@jupyter-widgets/controls",
          "model_name": "DescriptionStyleModel",
          "model_module_version": "1.5.0",
          "state": {
            "_model_module": "@jupyter-widgets/controls",
            "_model_module_version": "1.5.0",
            "_model_name": "DescriptionStyleModel",
            "_view_count": null,
            "_view_module": "@jupyter-widgets/base",
            "_view_module_version": "1.2.0",
            "_view_name": "StyleView",
            "description_width": ""
          }
        },
        "a306675b881f45a3a338fee2a00880f7": {
          "model_module": "@jupyter-widgets/base",
          "model_name": "LayoutModel",
          "model_module_version": "1.2.0",
          "state": {
            "_model_module": "@jupyter-widgets/base",
            "_model_module_version": "1.2.0",
            "_model_name": "LayoutModel",
            "_view_count": null,
            "_view_module": "@jupyter-widgets/base",
            "_view_module_version": "1.2.0",
            "_view_name": "LayoutView",
            "align_content": null,
            "align_items": null,
            "align_self": null,
            "border": null,
            "bottom": null,
            "display": null,
            "flex": null,
            "flex_flow": null,
            "grid_area": null,
            "grid_auto_columns": null,
            "grid_auto_flow": null,
            "grid_auto_rows": null,
            "grid_column": null,
            "grid_gap": null,
            "grid_row": null,
            "grid_template_areas": null,
            "grid_template_columns": null,
            "grid_template_rows": null,
            "height": null,
            "justify_content": null,
            "justify_items": null,
            "left": null,
            "margin": null,
            "max_height": null,
            "max_width": null,
            "min_height": null,
            "min_width": null,
            "object_fit": null,
            "object_position": null,
            "order": null,
            "overflow": null,
            "overflow_x": null,
            "overflow_y": null,
            "padding": null,
            "right": null,
            "top": null,
            "visibility": null,
            "width": null
          }
        },
        "d00500dfd54041deb3326c948837bc18": {
          "model_module": "@jupyter-widgets/controls",
          "model_name": "ProgressStyleModel",
          "model_module_version": "1.5.0",
          "state": {
            "_model_module": "@jupyter-widgets/controls",
            "_model_module_version": "1.5.0",
            "_model_name": "ProgressStyleModel",
            "_view_count": null,
            "_view_module": "@jupyter-widgets/base",
            "_view_module_version": "1.2.0",
            "_view_name": "StyleView",
            "bar_color": null,
            "description_width": ""
          }
        },
        "755a6082c1f84a408eaa2f6f7b6dd940": {
          "model_module": "@jupyter-widgets/base",
          "model_name": "LayoutModel",
          "model_module_version": "1.2.0",
          "state": {
            "_model_module": "@jupyter-widgets/base",
            "_model_module_version": "1.2.0",
            "_model_name": "LayoutModel",
            "_view_count": null,
            "_view_module": "@jupyter-widgets/base",
            "_view_module_version": "1.2.0",
            "_view_name": "LayoutView",
            "align_content": null,
            "align_items": null,
            "align_self": null,
            "border": null,
            "bottom": null,
            "display": null,
            "flex": null,
            "flex_flow": null,
            "grid_area": null,
            "grid_auto_columns": null,
            "grid_auto_flow": null,
            "grid_auto_rows": null,
            "grid_column": null,
            "grid_gap": null,
            "grid_row": null,
            "grid_template_areas": null,
            "grid_template_columns": null,
            "grid_template_rows": null,
            "height": null,
            "justify_content": null,
            "justify_items": null,
            "left": null,
            "margin": null,
            "max_height": null,
            "max_width": null,
            "min_height": null,
            "min_width": null,
            "object_fit": null,
            "object_position": null,
            "order": null,
            "overflow": null,
            "overflow_x": null,
            "overflow_y": null,
            "padding": null,
            "right": null,
            "top": null,
            "visibility": null,
            "width": null
          }
        },
        "c398caec33c94b68a30c51f9824412a7": {
          "model_module": "@jupyter-widgets/controls",
          "model_name": "DescriptionStyleModel",
          "model_module_version": "1.5.0",
          "state": {
            "_model_module": "@jupyter-widgets/controls",
            "_model_module_version": "1.5.0",
            "_model_name": "DescriptionStyleModel",
            "_view_count": null,
            "_view_module": "@jupyter-widgets/base",
            "_view_module_version": "1.2.0",
            "_view_name": "StyleView",
            "description_width": ""
          }
        },
        "eb9ca76d484e4572ab05200304f083a1": {
          "model_module": "@jupyter-widgets/controls",
          "model_name": "HBoxModel",
          "model_module_version": "1.5.0",
          "state": {
            "_dom_classes": [],
            "_model_module": "@jupyter-widgets/controls",
            "_model_module_version": "1.5.0",
            "_model_name": "HBoxModel",
            "_view_count": null,
            "_view_module": "@jupyter-widgets/controls",
            "_view_module_version": "1.5.0",
            "_view_name": "HBoxView",
            "box_style": "",
            "children": [
              "IPY_MODEL_05c450272ae94ba8a80e3e8a44cd83dc",
              "IPY_MODEL_8374f18935834a5fad97519984cc2999",
              "IPY_MODEL_2ed87a8f2b8c413c84f9ccb60eebcca4"
            ],
            "layout": "IPY_MODEL_68d70dbc8b824a238b3cd51a50b45056"
          }
        },
        "05c450272ae94ba8a80e3e8a44cd83dc": {
          "model_module": "@jupyter-widgets/controls",
          "model_name": "HTMLModel",
          "model_module_version": "1.5.0",
          "state": {
            "_dom_classes": [],
            "_model_module": "@jupyter-widgets/controls",
            "_model_module_version": "1.5.0",
            "_model_name": "HTMLModel",
            "_view_count": null,
            "_view_module": "@jupyter-widgets/controls",
            "_view_module_version": "1.5.0",
            "_view_name": "HTMLView",
            "description": "",
            "description_tooltip": null,
            "layout": "IPY_MODEL_f79b088bed024ebabd8de7072dab4bb8",
            "placeholder": "​",
            "style": "IPY_MODEL_1a161689a3354e0f98c5a9a607ce654f",
            "value": "HopSkipJump: 100%"
          }
        },
        "8374f18935834a5fad97519984cc2999": {
          "model_module": "@jupyter-widgets/controls",
          "model_name": "FloatProgressModel",
          "model_module_version": "1.5.0",
          "state": {
            "_dom_classes": [],
            "_model_module": "@jupyter-widgets/controls",
            "_model_module_version": "1.5.0",
            "_model_name": "FloatProgressModel",
            "_view_count": null,
            "_view_module": "@jupyter-widgets/controls",
            "_view_module_version": "1.5.0",
            "_view_name": "ProgressView",
            "bar_style": "success",
            "description": "",
            "description_tooltip": null,
            "layout": "IPY_MODEL_ae2d003b84ba49fcb594695ccdc52623",
            "max": 86,
            "min": 0,
            "orientation": "horizontal",
            "style": "IPY_MODEL_3a7d0ac536eb422ca4fe594ae5fd34b8",
            "value": 86
          }
        },
        "2ed87a8f2b8c413c84f9ccb60eebcca4": {
          "model_module": "@jupyter-widgets/controls",
          "model_name": "HTMLModel",
          "model_module_version": "1.5.0",
          "state": {
            "_dom_classes": [],
            "_model_module": "@jupyter-widgets/controls",
            "_model_module_version": "1.5.0",
            "_model_name": "HTMLModel",
            "_view_count": null,
            "_view_module": "@jupyter-widgets/controls",
            "_view_module_version": "1.5.0",
            "_view_name": "HTMLView",
            "description": "",
            "description_tooltip": null,
            "layout": "IPY_MODEL_ce6ca06c75454a3ebfbf21076ddebd14",
            "placeholder": "​",
            "style": "IPY_MODEL_e32d5d6f32bd4436a59bf2b628447cd4",
            "value": " 86/86 [01:07&lt;00:00,  1.41it/s]"
          }
        },
        "68d70dbc8b824a238b3cd51a50b45056": {
          "model_module": "@jupyter-widgets/base",
          "model_name": "LayoutModel",
          "model_module_version": "1.2.0",
          "state": {
            "_model_module": "@jupyter-widgets/base",
            "_model_module_version": "1.2.0",
            "_model_name": "LayoutModel",
            "_view_count": null,
            "_view_module": "@jupyter-widgets/base",
            "_view_module_version": "1.2.0",
            "_view_name": "LayoutView",
            "align_content": null,
            "align_items": null,
            "align_self": null,
            "border": null,
            "bottom": null,
            "display": null,
            "flex": null,
            "flex_flow": null,
            "grid_area": null,
            "grid_auto_columns": null,
            "grid_auto_flow": null,
            "grid_auto_rows": null,
            "grid_column": null,
            "grid_gap": null,
            "grid_row": null,
            "grid_template_areas": null,
            "grid_template_columns": null,
            "grid_template_rows": null,
            "height": null,
            "justify_content": null,
            "justify_items": null,
            "left": null,
            "margin": null,
            "max_height": null,
            "max_width": null,
            "min_height": null,
            "min_width": null,
            "object_fit": null,
            "object_position": null,
            "order": null,
            "overflow": null,
            "overflow_x": null,
            "overflow_y": null,
            "padding": null,
            "right": null,
            "top": null,
            "visibility": null,
            "width": null
          }
        },
        "f79b088bed024ebabd8de7072dab4bb8": {
          "model_module": "@jupyter-widgets/base",
          "model_name": "LayoutModel",
          "model_module_version": "1.2.0",
          "state": {
            "_model_module": "@jupyter-widgets/base",
            "_model_module_version": "1.2.0",
            "_model_name": "LayoutModel",
            "_view_count": null,
            "_view_module": "@jupyter-widgets/base",
            "_view_module_version": "1.2.0",
            "_view_name": "LayoutView",
            "align_content": null,
            "align_items": null,
            "align_self": null,
            "border": null,
            "bottom": null,
            "display": null,
            "flex": null,
            "flex_flow": null,
            "grid_area": null,
            "grid_auto_columns": null,
            "grid_auto_flow": null,
            "grid_auto_rows": null,
            "grid_column": null,
            "grid_gap": null,
            "grid_row": null,
            "grid_template_areas": null,
            "grid_template_columns": null,
            "grid_template_rows": null,
            "height": null,
            "justify_content": null,
            "justify_items": null,
            "left": null,
            "margin": null,
            "max_height": null,
            "max_width": null,
            "min_height": null,
            "min_width": null,
            "object_fit": null,
            "object_position": null,
            "order": null,
            "overflow": null,
            "overflow_x": null,
            "overflow_y": null,
            "padding": null,
            "right": null,
            "top": null,
            "visibility": null,
            "width": null
          }
        },
        "1a161689a3354e0f98c5a9a607ce654f": {
          "model_module": "@jupyter-widgets/controls",
          "model_name": "DescriptionStyleModel",
          "model_module_version": "1.5.0",
          "state": {
            "_model_module": "@jupyter-widgets/controls",
            "_model_module_version": "1.5.0",
            "_model_name": "DescriptionStyleModel",
            "_view_count": null,
            "_view_module": "@jupyter-widgets/base",
            "_view_module_version": "1.2.0",
            "_view_name": "StyleView",
            "description_width": ""
          }
        },
        "ae2d003b84ba49fcb594695ccdc52623": {
          "model_module": "@jupyter-widgets/base",
          "model_name": "LayoutModel",
          "model_module_version": "1.2.0",
          "state": {
            "_model_module": "@jupyter-widgets/base",
            "_model_module_version": "1.2.0",
            "_model_name": "LayoutModel",
            "_view_count": null,
            "_view_module": "@jupyter-widgets/base",
            "_view_module_version": "1.2.0",
            "_view_name": "LayoutView",
            "align_content": null,
            "align_items": null,
            "align_self": null,
            "border": null,
            "bottom": null,
            "display": null,
            "flex": null,
            "flex_flow": null,
            "grid_area": null,
            "grid_auto_columns": null,
            "grid_auto_flow": null,
            "grid_auto_rows": null,
            "grid_column": null,
            "grid_gap": null,
            "grid_row": null,
            "grid_template_areas": null,
            "grid_template_columns": null,
            "grid_template_rows": null,
            "height": null,
            "justify_content": null,
            "justify_items": null,
            "left": null,
            "margin": null,
            "max_height": null,
            "max_width": null,
            "min_height": null,
            "min_width": null,
            "object_fit": null,
            "object_position": null,
            "order": null,
            "overflow": null,
            "overflow_x": null,
            "overflow_y": null,
            "padding": null,
            "right": null,
            "top": null,
            "visibility": null,
            "width": null
          }
        },
        "3a7d0ac536eb422ca4fe594ae5fd34b8": {
          "model_module": "@jupyter-widgets/controls",
          "model_name": "ProgressStyleModel",
          "model_module_version": "1.5.0",
          "state": {
            "_model_module": "@jupyter-widgets/controls",
            "_model_module_version": "1.5.0",
            "_model_name": "ProgressStyleModel",
            "_view_count": null,
            "_view_module": "@jupyter-widgets/base",
            "_view_module_version": "1.2.0",
            "_view_name": "StyleView",
            "bar_color": null,
            "description_width": ""
          }
        },
        "ce6ca06c75454a3ebfbf21076ddebd14": {
          "model_module": "@jupyter-widgets/base",
          "model_name": "LayoutModel",
          "model_module_version": "1.2.0",
          "state": {
            "_model_module": "@jupyter-widgets/base",
            "_model_module_version": "1.2.0",
            "_model_name": "LayoutModel",
            "_view_count": null,
            "_view_module": "@jupyter-widgets/base",
            "_view_module_version": "1.2.0",
            "_view_name": "LayoutView",
            "align_content": null,
            "align_items": null,
            "align_self": null,
            "border": null,
            "bottom": null,
            "display": null,
            "flex": null,
            "flex_flow": null,
            "grid_area": null,
            "grid_auto_columns": null,
            "grid_auto_flow": null,
            "grid_auto_rows": null,
            "grid_column": null,
            "grid_gap": null,
            "grid_row": null,
            "grid_template_areas": null,
            "grid_template_columns": null,
            "grid_template_rows": null,
            "height": null,
            "justify_content": null,
            "justify_items": null,
            "left": null,
            "margin": null,
            "max_height": null,
            "max_width": null,
            "min_height": null,
            "min_width": null,
            "object_fit": null,
            "object_position": null,
            "order": null,
            "overflow": null,
            "overflow_x": null,
            "overflow_y": null,
            "padding": null,
            "right": null,
            "top": null,
            "visibility": null,
            "width": null
          }
        },
        "e32d5d6f32bd4436a59bf2b628447cd4": {
          "model_module": "@jupyter-widgets/controls",
          "model_name": "DescriptionStyleModel",
          "model_module_version": "1.5.0",
          "state": {
            "_model_module": "@jupyter-widgets/controls",
            "_model_module_version": "1.5.0",
            "_model_name": "DescriptionStyleModel",
            "_view_count": null,
            "_view_module": "@jupyter-widgets/base",
            "_view_module_version": "1.2.0",
            "_view_name": "StyleView",
            "description_width": ""
          }
        },
        "71fd820edfbc4d808ec2b2c117d89b12": {
          "model_module": "@jupyter-widgets/controls",
          "model_name": "HBoxModel",
          "model_module_version": "1.5.0",
          "state": {
            "_dom_classes": [],
            "_model_module": "@jupyter-widgets/controls",
            "_model_module_version": "1.5.0",
            "_model_name": "HBoxModel",
            "_view_count": null,
            "_view_module": "@jupyter-widgets/controls",
            "_view_module_version": "1.5.0",
            "_view_name": "HBoxView",
            "box_style": "",
            "children": [
              "IPY_MODEL_7154b9d2ed754c3ba15007c3f2b572b8",
              "IPY_MODEL_1c97c7af09494a2394ba93e5f3909aba",
              "IPY_MODEL_c031b71f330d4b0385a2880664cabc4e"
            ],
            "layout": "IPY_MODEL_1e5cdcecd2084165b92d9211470b772b"
          }
        },
        "7154b9d2ed754c3ba15007c3f2b572b8": {
          "model_module": "@jupyter-widgets/controls",
          "model_name": "HTMLModel",
          "model_module_version": "1.5.0",
          "state": {
            "_dom_classes": [],
            "_model_module": "@jupyter-widgets/controls",
            "_model_module_version": "1.5.0",
            "_model_name": "HTMLModel",
            "_view_count": null,
            "_view_module": "@jupyter-widgets/controls",
            "_view_module_version": "1.5.0",
            "_view_name": "HTMLView",
            "description": "",
            "description_tooltip": null,
            "layout": "IPY_MODEL_e909a9438777429e8bd198882b43b122",
            "placeholder": "​",
            "style": "IPY_MODEL_e3ffbb2587c74849a2a4cdffd4b99604",
            "value": "JSMA: 100%"
          }
        },
        "1c97c7af09494a2394ba93e5f3909aba": {
          "model_module": "@jupyter-widgets/controls",
          "model_name": "FloatProgressModel",
          "model_module_version": "1.5.0",
          "state": {
            "_dom_classes": [],
            "_model_module": "@jupyter-widgets/controls",
            "_model_module_version": "1.5.0",
            "_model_name": "FloatProgressModel",
            "_view_count": null,
            "_view_module": "@jupyter-widgets/controls",
            "_view_module_version": "1.5.0",
            "_view_name": "ProgressView",
            "bar_style": "success",
            "description": "",
            "description_tooltip": null,
            "layout": "IPY_MODEL_e2baec0683b341e4ba75ff3e1b72f7ce",
            "max": 86,
            "min": 0,
            "orientation": "horizontal",
            "style": "IPY_MODEL_ef0c61e3ecf14a5480c7e1effecac59d",
            "value": 86
          }
        },
        "c031b71f330d4b0385a2880664cabc4e": {
          "model_module": "@jupyter-widgets/controls",
          "model_name": "HTMLModel",
          "model_module_version": "1.5.0",
          "state": {
            "_dom_classes": [],
            "_model_module": "@jupyter-widgets/controls",
            "_model_module_version": "1.5.0",
            "_model_name": "HTMLModel",
            "_view_count": null,
            "_view_module": "@jupyter-widgets/controls",
            "_view_module_version": "1.5.0",
            "_view_name": "HTMLView",
            "description": "",
            "description_tooltip": null,
            "layout": "IPY_MODEL_f8f78e511098490b9e9db3d4856ed170",
            "placeholder": "​",
            "style": "IPY_MODEL_718b615e8a464b1b87dd221f672b0fa0",
            "value": " 86/86 [00:00&lt;00:00, 2116.35it/s]"
          }
        },
        "1e5cdcecd2084165b92d9211470b772b": {
          "model_module": "@jupyter-widgets/base",
          "model_name": "LayoutModel",
          "model_module_version": "1.2.0",
          "state": {
            "_model_module": "@jupyter-widgets/base",
            "_model_module_version": "1.2.0",
            "_model_name": "LayoutModel",
            "_view_count": null,
            "_view_module": "@jupyter-widgets/base",
            "_view_module_version": "1.2.0",
            "_view_name": "LayoutView",
            "align_content": null,
            "align_items": null,
            "align_self": null,
            "border": null,
            "bottom": null,
            "display": null,
            "flex": null,
            "flex_flow": null,
            "grid_area": null,
            "grid_auto_columns": null,
            "grid_auto_flow": null,
            "grid_auto_rows": null,
            "grid_column": null,
            "grid_gap": null,
            "grid_row": null,
            "grid_template_areas": null,
            "grid_template_columns": null,
            "grid_template_rows": null,
            "height": null,
            "justify_content": null,
            "justify_items": null,
            "left": null,
            "margin": null,
            "max_height": null,
            "max_width": null,
            "min_height": null,
            "min_width": null,
            "object_fit": null,
            "object_position": null,
            "order": null,
            "overflow": null,
            "overflow_x": null,
            "overflow_y": null,
            "padding": null,
            "right": null,
            "top": null,
            "visibility": null,
            "width": null
          }
        },
        "e909a9438777429e8bd198882b43b122": {
          "model_module": "@jupyter-widgets/base",
          "model_name": "LayoutModel",
          "model_module_version": "1.2.0",
          "state": {
            "_model_module": "@jupyter-widgets/base",
            "_model_module_version": "1.2.0",
            "_model_name": "LayoutModel",
            "_view_count": null,
            "_view_module": "@jupyter-widgets/base",
            "_view_module_version": "1.2.0",
            "_view_name": "LayoutView",
            "align_content": null,
            "align_items": null,
            "align_self": null,
            "border": null,
            "bottom": null,
            "display": null,
            "flex": null,
            "flex_flow": null,
            "grid_area": null,
            "grid_auto_columns": null,
            "grid_auto_flow": null,
            "grid_auto_rows": null,
            "grid_column": null,
            "grid_gap": null,
            "grid_row": null,
            "grid_template_areas": null,
            "grid_template_columns": null,
            "grid_template_rows": null,
            "height": null,
            "justify_content": null,
            "justify_items": null,
            "left": null,
            "margin": null,
            "max_height": null,
            "max_width": null,
            "min_height": null,
            "min_width": null,
            "object_fit": null,
            "object_position": null,
            "order": null,
            "overflow": null,
            "overflow_x": null,
            "overflow_y": null,
            "padding": null,
            "right": null,
            "top": null,
            "visibility": null,
            "width": null
          }
        },
        "e3ffbb2587c74849a2a4cdffd4b99604": {
          "model_module": "@jupyter-widgets/controls",
          "model_name": "DescriptionStyleModel",
          "model_module_version": "1.5.0",
          "state": {
            "_model_module": "@jupyter-widgets/controls",
            "_model_module_version": "1.5.0",
            "_model_name": "DescriptionStyleModel",
            "_view_count": null,
            "_view_module": "@jupyter-widgets/base",
            "_view_module_version": "1.2.0",
            "_view_name": "StyleView",
            "description_width": ""
          }
        },
        "e2baec0683b341e4ba75ff3e1b72f7ce": {
          "model_module": "@jupyter-widgets/base",
          "model_name": "LayoutModel",
          "model_module_version": "1.2.0",
          "state": {
            "_model_module": "@jupyter-widgets/base",
            "_model_module_version": "1.2.0",
            "_model_name": "LayoutModel",
            "_view_count": null,
            "_view_module": "@jupyter-widgets/base",
            "_view_module_version": "1.2.0",
            "_view_name": "LayoutView",
            "align_content": null,
            "align_items": null,
            "align_self": null,
            "border": null,
            "bottom": null,
            "display": null,
            "flex": null,
            "flex_flow": null,
            "grid_area": null,
            "grid_auto_columns": null,
            "grid_auto_flow": null,
            "grid_auto_rows": null,
            "grid_column": null,
            "grid_gap": null,
            "grid_row": null,
            "grid_template_areas": null,
            "grid_template_columns": null,
            "grid_template_rows": null,
            "height": null,
            "justify_content": null,
            "justify_items": null,
            "left": null,
            "margin": null,
            "max_height": null,
            "max_width": null,
            "min_height": null,
            "min_width": null,
            "object_fit": null,
            "object_position": null,
            "order": null,
            "overflow": null,
            "overflow_x": null,
            "overflow_y": null,
            "padding": null,
            "right": null,
            "top": null,
            "visibility": null,
            "width": null
          }
        },
        "ef0c61e3ecf14a5480c7e1effecac59d": {
          "model_module": "@jupyter-widgets/controls",
          "model_name": "ProgressStyleModel",
          "model_module_version": "1.5.0",
          "state": {
            "_model_module": "@jupyter-widgets/controls",
            "_model_module_version": "1.5.0",
            "_model_name": "ProgressStyleModel",
            "_view_count": null,
            "_view_module": "@jupyter-widgets/base",
            "_view_module_version": "1.2.0",
            "_view_name": "StyleView",
            "bar_color": null,
            "description_width": ""
          }
        },
        "f8f78e511098490b9e9db3d4856ed170": {
          "model_module": "@jupyter-widgets/base",
          "model_name": "LayoutModel",
          "model_module_version": "1.2.0",
          "state": {
            "_model_module": "@jupyter-widgets/base",
            "_model_module_version": "1.2.0",
            "_model_name": "LayoutModel",
            "_view_count": null,
            "_view_module": "@jupyter-widgets/base",
            "_view_module_version": "1.2.0",
            "_view_name": "LayoutView",
            "align_content": null,
            "align_items": null,
            "align_self": null,
            "border": null,
            "bottom": null,
            "display": null,
            "flex": null,
            "flex_flow": null,
            "grid_area": null,
            "grid_auto_columns": null,
            "grid_auto_flow": null,
            "grid_auto_rows": null,
            "grid_column": null,
            "grid_gap": null,
            "grid_row": null,
            "grid_template_areas": null,
            "grid_template_columns": null,
            "grid_template_rows": null,
            "height": null,
            "justify_content": null,
            "justify_items": null,
            "left": null,
            "margin": null,
            "max_height": null,
            "max_width": null,
            "min_height": null,
            "min_width": null,
            "object_fit": null,
            "object_position": null,
            "order": null,
            "overflow": null,
            "overflow_x": null,
            "overflow_y": null,
            "padding": null,
            "right": null,
            "top": null,
            "visibility": null,
            "width": null
          }
        },
        "718b615e8a464b1b87dd221f672b0fa0": {
          "model_module": "@jupyter-widgets/controls",
          "model_name": "DescriptionStyleModel",
          "model_module_version": "1.5.0",
          "state": {
            "_model_module": "@jupyter-widgets/controls",
            "_model_module_version": "1.5.0",
            "_model_name": "DescriptionStyleModel",
            "_view_count": null,
            "_view_module": "@jupyter-widgets/base",
            "_view_module_version": "1.2.0",
            "_view_name": "StyleView",
            "description_width": ""
          }
        }
      }
    }
  },
  "nbformat": 4,
  "nbformat_minor": 0
}